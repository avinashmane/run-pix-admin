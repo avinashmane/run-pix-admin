{
  "cells": [
    {
      "cell_type": "code",
      "execution_count": 27,
      "metadata": {
        "colab": {
          "base_uri": "https://localhost:8080/"
        },
        "id": "CU17a7lMUjG7",
        "outputId": "e1bb852c-ef2b-4c66-ad8d-2b6dcf35f835"
      },
      "outputs": [
        {
          "name": "stdout",
          "output_type": "stream",
          "text": [
            "2023-09-07 20:27:29.410266\n"
          ]
        }
      ],
      "source": [
        "#@title Townscript to Sheet https://docs.google.com/spreadsheets/d/1eWB8KQkfsx8TVib8m8RNlv1PZNgoBcUCBt02lMhAPYA/edit\n",
        "import requests\n",
        "import yaml\n",
        "import pandas as pd\n",
        "print(pd.Timestamp.now())"
      ]
    },
    {
      "cell_type": "code",
      "execution_count": 29,
      "metadata": {
        "id": "35NBqGu6U-S8"
      },
      "outputs": [],
      "source": [
        "#@title Login Info\n",
        "from dotenv import load_dotenv\n",
        "load_dotenv()\n",
        "cfg=yaml.safe_load(\"\"\"\n",
        "api:\n",
        "  base: https://www.townscript.com/api\n",
        "apis:\n",
        "  /user/loginwithtownscript\n",
        "  /eventdata/get\n",
        "sheet:\n",
        "  url: https://docs.google.com/spreadsheets/d/1eWB8KQkfsx8TVib8m8RNlv1PZNgoBcUCBt02lMhAPYA/edit#gid=739860648\n",
        "  reg: DKD2023_reg\n",
        "  tickets: DKD2023_tkt\n",
        "\"\"\")"
      ]
    },
    {
      "cell_type": "markdown",
      "metadata": {
        "id": "INcthQLSM3QM"
      },
      "source": [
        "# Code"
      ]
    },
    {
      "cell_type": "code",
      "execution_count": 34,
      "metadata": {},
      "outputs": [
        {
          "data": {
            "text/plain": [
              "dict"
            ]
          },
          "execution_count": 34,
          "metadata": {},
          "output_type": "execute_result"
        }
      ],
      "source": [
        "type(json.loads(os.environ['SERVICE_ACCOUNT']))"
      ]
    },
    {
      "cell_type": "code",
      "execution_count": 3,
      "metadata": {
        "id": "J1EjhOpqWU46"
      },
      "outputs": [],
      "source": [
        "from townscript import Townscript\n",
        "from misc import subDict_tkt, subDict_ans, update_tab"
      ]
    },
    {
      "cell_type": "code",
      "execution_count": 4,
      "metadata": {
        "id": "qudghm4pV8bS"
      },
      "outputs": [],
      "source": [
        "# from google.colab import auth\n",
        "# auth.authenticate_user()\n",
        "\n",
        "import gspread\n",
        "# from google.auth import default\n",
        "# creds, _ = default()\n",
        "\n",
        "# gc = gspread.authorize(creds)\n",
        "\n",
        "\" Move the downloaded file to ~/.config/gspread/service_account.json. Windows users should put this file to %APPDATA%\\gspread\\service_account.json. \"\n",
        "gc = gspread.service_account()"
      ]
    },
    {
      "cell_type": "markdown",
      "metadata": {
        "id": "AS7J6UZVNJnp"
      },
      "source": [
        "# Download"
      ]
    },
    {
      "cell_type": "code",
      "execution_count": 24,
      "metadata": {},
      "outputs": [
        {
          "data": {
            "text/plain": [
              "True"
            ]
          },
          "execution_count": 24,
          "metadata": {},
          "output_type": "execute_result"
        }
      ],
      "source": [
        "from dotenv import load_dotenv\n",
        "\n",
        "load_dotenv() "
      ]
    },
    {
      "cell_type": "code",
      "execution_count": 6,
      "metadata": {
        "colab": {
          "base_uri": "https://localhost:8080/",
          "height": 53
        },
        "id": "7zqaS5oyWhZp",
        "outputId": "e6517caf-80ee-465e-f841-ece48046ae6f"
      },
      "outputs": [],
      "source": [
        "import json\n",
        "\n",
        "TS=Townscript(cfg)\n",
        "TS.TSToken()\n",
        "event=TS.getEvents('DKD2023')\n",
        "skipcols=['ticketAndDiscountList','answerList']\n",
        "# TS.token"
      ]
    },
    {
      "cell_type": "code",
      "execution_count": 7,
      "metadata": {
        "id": "vMVPKMyXWuki"
      },
      "outputs": [],
      "source": [
        "dat=TS.getData('DKD2023')"
      ]
    },
    {
      "cell_type": "markdown",
      "metadata": {
        "id": "fjvMSDBdNNU0"
      },
      "source": [
        "## test"
      ]
    },
    {
      "cell_type": "code",
      "execution_count": 8,
      "metadata": {
        "id": "QQ_iEDAPdGlZ"
      },
      "outputs": [],
      "source": [
        "\n",
        "import re, pandas as pd\n",
        "# df_=pd.DataFrame([(re.search(\"(\\d+)\",x)[0],x,dat[0][x]) for x in dat[0] if 'customQ' in x]+\n",
        "#              [(re.search(\"\\d+\",x)[0],x,dat[0][x]) for x in dat[0] if 'customA' in x])\n",
        "# df_[0]=df_[0].astype(int)\n",
        "# df_.sort_values(0)"
      ]
    },
    {
      "cell_type": "markdown",
      "metadata": {
        "id": "hwGso6BjM8uZ"
      },
      "source": [
        "# Upload"
      ]
    },
    {
      "cell_type": "code",
      "execution_count": 15,
      "metadata": {
        "id": "xq-27qztmRek"
      },
      "outputs": [],
      "source": [
        "gs=gc.open_by_url(cfg['sheet']['url'])\n",
        "gs_reg=gs.worksheet('DKD2023_reg')\n",
        "gs_tkt=gs.worksheet('DKD2023_tkt')"
      ]
    },
    {
      "cell_type": "code",
      "execution_count": 10,
      "metadata": {
        "colab": {
          "base_uri": "https://localhost:8080/"
        },
        "id": "plW5Xi90-lXl",
        "outputId": "a9f838bf-5ee0-4726-bfa5-e78c230d8e80"
      },
      "outputs": [
        {
          "name": "stdout",
          "output_type": "stream",
          "text": [
            "['ticketCurrency', 'registrationId', 'eventName', 'discountCode2', 'discountCode1', 'uniqueOrderId', 'totalTicketAmount', 'ticketPrice1', 'ticketPrice2', 'ticketName2', 'ticketName1', 'userEmailId', 'allTicketName', 'currency', 'userName', 'eventCode', 'registrationTimestamp', 'discountAmount1', 'discountAmount2', 'discountAmount', 'ticketPrice', 'ticketName', 'discountCode', 'discountCode3', 'ticketPrice3', 'ticketName3', 'discountAmount3', 'Contact Number', 'Gender', 'Date Of birth', 'T Shirt option', 'T-shirt size', 'BIB , T Shirt Collection Location', \"Name on the T Shirt( type Blank if you don't want to print anything)\", 'Emergency Contact Name', 'Emergency Contact Number', 'Pincode/Zipcode/Postcode', 'Your DKD/PKP 2022 BIB', 'Your Society', 'How did you come to know about the event', 'Upload your Photograph where your face is clearly visible and your face is only face.', 'I have read the terms and condition and provide my consent', 'Choose your distance for JUNE-25 LSOM at district  circle spine road']\n"
          ]
        }
      ],
      "source": [
        "\"Registration\"\n",
        "\n",
        "df_ans=pd.DataFrame(\n",
        "                    subDict_ans(dat,\n",
        "                    subdict='answerList',\n",
        "                    keys=['uniqueOrderId']))\n",
        "df_reg=pd.DataFrame(dat).merge(df_ans,how='outer',on='uniqueOrderId')\n",
        "skipcols_=['answerList','ticketAndDiscountList']\n",
        "cols_=[c for c in df_reg.columns\n",
        " if not (('custom' in c) or ( c in skipcols_))]\n",
        "print(cols_)\n",
        "df_reg=df_reg[cols_]\n"
      ]
    },
    {
      "cell_type": "code",
      "execution_count": 11,
      "metadata": {
        "id": "B0IFcInqXL91"
      },
      "outputs": [],
      "source": [
        "\n",
        "\"Tickets\"\n",
        "import pandas as pd\n",
        "\n",
        "df_tkt=pd.DataFrame(subDict_tkt(dat,\n",
        "                     subdict='ticketAndDiscountList',\n",
        "                     keys=['registrationId','uniqueOrderId','userEmailId',\n",
        "                           'userName','Contact Number','Gender','T Shirt option',\n",
        "                           'T-shirt size','BIB , T Shirt Collection Location',\n",
        "                           \"Name on the T Shirt( type Blank if you don't want to print anything)\",\"registrationTimestamp\"]))"
      ]
    },
    {
      "cell_type": "code",
      "execution_count": 12,
      "metadata": {
        "colab": {
          "base_uri": "https://localhost:8080/",
          "height": 129
        },
        "id": "YWHOQgarDoW2",
        "outputId": "6845d35a-0011-420e-bb4a-00b00db27da6"
      },
      "outputs": [
        {
          "name": "stdout",
          "output_type": "stream",
          "text": [
            "df_reg (1208, 43) Tickets (1636, 15)\n"
          ]
        },
        {
          "data": {
            "text/html": [
              "<style type=\"text/css\">\n",
              "</style>\n",
              "<table id=\"T_75c93\">\n",
              "  <thead>\n",
              "    <tr>\n",
              "      <th class=\"blank level0\" >&nbsp;</th>\n",
              "      <th id=\"T_75c93_level0_col0\" class=\"col_heading level0 col0\" >registrationTimestamp</th>\n",
              "      <th id=\"T_75c93_level0_col1\" class=\"col_heading level0 col1\" >registrationId</th>\n",
              "      <th id=\"T_75c93_level0_col2\" class=\"col_heading level0 col2\" >uniqueOrderId</th>\n",
              "      <th id=\"T_75c93_level0_col3\" class=\"col_heading level0 col3\" >userName</th>\n",
              "    </tr>\n",
              "  </thead>\n",
              "  <tbody>\n",
              "    <tr>\n",
              "      <th id=\"T_75c93_level0_row0\" class=\"row_heading level0 row0\" >158</th>\n",
              "      <td id=\"T_75c93_row0_col0\" class=\"data row0 col0\" >20-08-2023 21:46</td>\n",
              "      <td id=\"T_75c93_row0_col1\" class=\"data row0 col1\" >11555237</td>\n",
              "      <td id=\"T_75c93_row0_col2\" class=\"data row0 col2\" >664601692548099691</td>\n",
              "      <td id=\"T_75c93_row0_col3\" class=\"data row0 col3\" >Aniket Gangakhedkar</td>\n",
              "    </tr>\n",
              "    <tr>\n",
              "      <th id=\"T_75c93_level0_row1\" class=\"row_heading level0 row1\" >1049</th>\n",
              "      <td id=\"T_75c93_row1_col0\" class=\"data row1 col0\" >16-08-2023 10:46</td>\n",
              "      <td id=\"T_75c93_row1_col1\" class=\"data row1 col1\" >11530141</td>\n",
              "      <td id=\"T_75c93_row1_col2\" class=\"data row1 col2\" >537401692162958456</td>\n",
              "      <td id=\"T_75c93_row1_col3\" class=\"data row1 col3\" >Sonali Chaudhari</td>\n",
              "    </tr>\n",
              "  </tbody>\n",
              "</table>\n"
            ],
            "text/plain": [
              "<pandas.io.formats.style.Styler at 0x7f4e201bd0a0>"
            ]
          },
          "metadata": {},
          "output_type": "display_data"
        }
      ],
      "source": [
        "\"show last few registrations\"\n",
        "print('df_reg',df_reg.shape,'Tickets',df_tkt.shape)\n",
        "showColumns=\"registrationTimestamp registrationId uniqueOrderId userName \".split()\n",
        "display(df_reg.sort_values('registrationId',ascending=False).head(2)[showColumns].style)"
      ]
    },
    {
      "cell_type": "code",
      "execution_count": 13,
      "metadata": {
        "colab": {
          "base_uri": "https://localhost:8080/",
          "height": 363
        },
        "id": "WtS9-gMAKtch",
        "outputId": "83bd1353-6cc9-45de-85cb-626a26aee0ad"
      },
      "outputs": [
        {
          "data": {
            "text/html": [
              "<div>\n",
              "<style scoped>\n",
              "    .dataframe tbody tr th:only-of-type {\n",
              "        vertical-align: middle;\n",
              "    }\n",
              "\n",
              "    .dataframe tbody tr th {\n",
              "        vertical-align: top;\n",
              "    }\n",
              "\n",
              "    .dataframe thead th {\n",
              "        text-align: right;\n",
              "    }\n",
              "</style>\n",
              "<table border=\"1\" class=\"dataframe\">\n",
              "  <thead>\n",
              "    <tr style=\"text-align: right;\">\n",
              "      <th></th>\n",
              "      <th>registrationTimestamp</th>\n",
              "      <th>registrationId</th>\n",
              "      <th>uniqueOrderId</th>\n",
              "      <th>userName</th>\n",
              "      <th>ticketName</th>\n",
              "      <th>ticketPrice</th>\n",
              "    </tr>\n",
              "  </thead>\n",
              "  <tbody>\n",
              "    <tr>\n",
              "      <th>223</th>\n",
              "      <td>20-08-2023 21:46</td>\n",
              "      <td>11555237</td>\n",
              "      <td>664601692548099691</td>\n",
              "      <td>Aniket Gangakhedkar</td>\n",
              "      <td>DKD - 2023 - Annual Membership  (Register with...</td>\n",
              "      <td>900.0</td>\n",
              "    </tr>\n",
              "    <tr>\n",
              "      <th>1438</th>\n",
              "      <td>16-08-2023 10:46</td>\n",
              "      <td>11530141</td>\n",
              "      <td>537401692162958456</td>\n",
              "      <td>Sonali Chaudhari</td>\n",
              "      <td>DKD - 2023 - Annual Membership  (Register with...</td>\n",
              "      <td>900.0</td>\n",
              "    </tr>\n",
              "    <tr>\n",
              "      <th>1256</th>\n",
              "      <td>11-08-2023 12:22</td>\n",
              "      <td>11478727</td>\n",
              "      <td>450631691736688569</td>\n",
              "      <td>Swasti Swapnil Jadhav</td>\n",
              "      <td>DKD - 2023 - Annual Membership  (Register with...</td>\n",
              "      <td>900.0</td>\n",
              "    </tr>\n",
              "    <tr>\n",
              "      <th>1194</th>\n",
              "      <td>11-08-2023 12:18</td>\n",
              "      <td>11478704</td>\n",
              "      <td>571271691736427350</td>\n",
              "      <td>Aniket Kumar Shah</td>\n",
              "      <td>DKD - 2023 - Annual Membership  (Register with...</td>\n",
              "      <td>900.0</td>\n",
              "    </tr>\n",
              "    <tr>\n",
              "      <th>1204</th>\n",
              "      <td>11-08-2023 12:13</td>\n",
              "      <td>11478659</td>\n",
              "      <td>615531691736098071</td>\n",
              "      <td>Anil Kumar Shah</td>\n",
              "      <td>DKD - 2023 - Annual Membership  (Register with...</td>\n",
              "      <td>900.0</td>\n",
              "    </tr>\n",
              "    <tr>\n",
              "      <th>1326</th>\n",
              "      <td>11-08-2023 11:57</td>\n",
              "      <td>11478555</td>\n",
              "      <td>125221691735119191</td>\n",
              "      <td>sandeep kashid</td>\n",
              "      <td>DKD - 2022 Blue T-shirt (Large Size - unisex )</td>\n",
              "      <td>300.0</td>\n",
              "    </tr>\n",
              "    <tr>\n",
              "      <th>1327</th>\n",
              "      <td>11-08-2023 11:57</td>\n",
              "      <td>11478554</td>\n",
              "      <td>125221691735119191</td>\n",
              "      <td>Sandeep Kashid</td>\n",
              "      <td>DKD - 2023 - Annual Membership  (Register with...</td>\n",
              "      <td>900.0</td>\n",
              "    </tr>\n",
              "    <tr>\n",
              "      <th>1190</th>\n",
              "      <td>07-08-2023 23:33</td>\n",
              "      <td>11441848</td>\n",
              "      <td>721201691431376814</td>\n",
              "      <td>Ajay Dinkar society</td>\n",
              "      <td>DKD - 2022 Blue T-shirt (Large Size - unisex )</td>\n",
              "      <td>300.0</td>\n",
              "    </tr>\n",
              "    <tr>\n",
              "      <th>1193</th>\n",
              "      <td>07-08-2023 23:33</td>\n",
              "      <td>11441847</td>\n",
              "      <td>721201691431376814</td>\n",
              "      <td>Ajay Dinkar Suryawanshi</td>\n",
              "      <td>DKD - 2023 - Annual Membership  (Register with...</td>\n",
              "      <td>900.0</td>\n",
              "    </tr>\n",
              "    <tr>\n",
              "      <th>1557</th>\n",
              "      <td>05-08-2023 11:16</td>\n",
              "      <td>11204370</td>\n",
              "      <td>767131691214336398</td>\n",
              "      <td>Varun</td>\n",
              "      <td>DKD - 2022 Blue T-shirt (Large Size - unisex )</td>\n",
              "      <td>300.0</td>\n",
              "    </tr>\n",
              "  </tbody>\n",
              "</table>\n",
              "</div>"
            ],
            "text/plain": [
              "     registrationTimestamp  registrationId       uniqueOrderId  \\\n",
              "223       20-08-2023 21:46        11555237  664601692548099691   \n",
              "1438      16-08-2023 10:46        11530141  537401692162958456   \n",
              "1256      11-08-2023 12:22        11478727  450631691736688569   \n",
              "1194      11-08-2023 12:18        11478704  571271691736427350   \n",
              "1204      11-08-2023 12:13        11478659  615531691736098071   \n",
              "1326      11-08-2023 11:57        11478555  125221691735119191   \n",
              "1327      11-08-2023 11:57        11478554  125221691735119191   \n",
              "1190      07-08-2023 23:33        11441848  721201691431376814   \n",
              "1193      07-08-2023 23:33        11441847  721201691431376814   \n",
              "1557      05-08-2023 11:16        11204370  767131691214336398   \n",
              "\n",
              "                     userName  \\\n",
              "223       Aniket Gangakhedkar   \n",
              "1438         Sonali Chaudhari   \n",
              "1256    Swasti Swapnil Jadhav   \n",
              "1194        Aniket Kumar Shah   \n",
              "1204          Anil Kumar Shah   \n",
              "1326           sandeep kashid   \n",
              "1327           Sandeep Kashid   \n",
              "1190      Ajay Dinkar society   \n",
              "1193  Ajay Dinkar Suryawanshi   \n",
              "1557                    Varun   \n",
              "\n",
              "                                             ticketName  ticketPrice  \n",
              "223   DKD - 2023 - Annual Membership  (Register with...        900.0  \n",
              "1438  DKD - 2023 - Annual Membership  (Register with...        900.0  \n",
              "1256  DKD - 2023 - Annual Membership  (Register with...        900.0  \n",
              "1194  DKD - 2023 - Annual Membership  (Register with...        900.0  \n",
              "1204  DKD - 2023 - Annual Membership  (Register with...        900.0  \n",
              "1326     DKD - 2022 Blue T-shirt (Large Size - unisex )        300.0  \n",
              "1327  DKD - 2023 - Annual Membership  (Register with...        900.0  \n",
              "1190     DKD - 2022 Blue T-shirt (Large Size - unisex )        300.0  \n",
              "1193  DKD - 2023 - Annual Membership  (Register with...        900.0  \n",
              "1557     DKD - 2022 Blue T-shirt (Large Size - unisex )        300.0  "
            ]
          },
          "execution_count": 13,
          "metadata": {},
          "output_type": "execute_result"
        }
      ],
      "source": [
        "\"show last few tickets\"\n",
        "showColumns=\"registrationTimestamp registrationId uniqueOrderId userName ticketName ticketPrice\".split()\n",
        "df_tkt[showColumns].sort_values('registrationId',ascending=False).head(10)"
      ]
    },
    {
      "cell_type": "code",
      "execution_count": 16,
      "metadata": {
        "colab": {
          "base_uri": "https://localhost:8080/"
        },
        "id": "v0K9T2HuEjKg",
        "outputId": "5e25318f-f9e0-46ad-e0e2-a02c1a1fbf22"
      },
      "outputs": [
        {
          "name": "stdout",
          "output_type": "stream",
          "text": [
            "Error UndefinedVariableError(\"local variable 'newKeys' is not defined\")\n",
            "Error UndefinedVariableError(\"local variable 'newKeys' is not defined\")\n"
          ]
        }
      ],
      "source": [
        "\n",
        "\" update\"\n",
        "update_tab(gs_reg,df_reg)\n",
        "update_tab(gs_tkt,df_tkt)"
      ]
    },
    {
      "cell_type": "code",
      "execution_count": 17,
      "metadata": {
        "colab": {
          "base_uri": "https://localhost:8080/"
        },
        "id": "A2Htt1rxXiJN",
        "outputId": "e71680ef-9351-40e8-dfb5-47c4034abc04"
      },
      "outputs": [
        {
          "data": {
            "text/plain": [
              "((1267, 45), (1208, 43))"
            ]
          },
          "execution_count": 17,
          "metadata": {},
          "output_type": "execute_result"
        }
      ],
      "source": [
        "# gs_reg.row_count\n",
        "df_old = pd.DataFrame(gs_reg.get_all_records())\n",
        "df_old.shape, df_reg.shape"
      ]
    },
    {
      "cell_type": "code",
      "execution_count": 23,
      "metadata": {
        "id": "1LnwFz98tzDa"
      },
      "outputs": [
        {
          "data": {
            "text/html": [
              "<div>\n",
              "<style scoped>\n",
              "    .dataframe tbody tr th:only-of-type {\n",
              "        vertical-align: middle;\n",
              "    }\n",
              "\n",
              "    .dataframe tbody tr th {\n",
              "        vertical-align: top;\n",
              "    }\n",
              "\n",
              "    .dataframe thead th {\n",
              "        text-align: right;\n",
              "    }\n",
              "</style>\n",
              "<table border=\"1\" class=\"dataframe\">\n",
              "  <thead>\n",
              "    <tr style=\"text-align: right;\">\n",
              "      <th>BIB , T Shirt Collection Location</th>\n",
              "      <th></th>\n",
              "      <th>District Circle - Spine Road</th>\n",
              "      <th>Ganesh Talav - Nigdi</th>\n",
              "      <th>Pavaneshwar Tea stall Chinchwad</th>\n",
              "      <th>Savitri Bai Phule garden - Wakad</th>\n",
              "    </tr>\n",
              "    <tr>\n",
              "      <th>ticketName</th>\n",
              "      <th></th>\n",
              "      <th></th>\n",
              "      <th></th>\n",
              "      <th></th>\n",
              "      <th></th>\n",
              "    </tr>\n",
              "  </thead>\n",
              "  <tbody>\n",
              "    <tr>\n",
              "      <th>DKD - 2022 Blue T-shirt  (Small Size unisex )</th>\n",
              "      <td>NaN</td>\n",
              "      <td>1.0</td>\n",
              "      <td>2.0</td>\n",
              "      <td>NaN</td>\n",
              "      <td>5.0</td>\n",
              "    </tr>\n",
              "    <tr>\n",
              "      <th>DKD - 2022 Blue T-shirt (Large Size - unisex )</th>\n",
              "      <td>NaN</td>\n",
              "      <td>10.0</td>\n",
              "      <td>2.0</td>\n",
              "      <td>6.0</td>\n",
              "      <td>10.0</td>\n",
              "    </tr>\n",
              "    <tr>\n",
              "      <th>DKD - 2022 Blue T-shirt (Medium Size - unisex )</th>\n",
              "      <td>NaN</td>\n",
              "      <td>4.0</td>\n",
              "      <td>4.0</td>\n",
              "      <td>5.0</td>\n",
              "      <td>2.0</td>\n",
              "    </tr>\n",
              "    <tr>\n",
              "      <th>DKD - 2022 Tee Shirt ( Limited stock )</th>\n",
              "      <td>1.0</td>\n",
              "      <td>NaN</td>\n",
              "      <td>NaN</td>\n",
              "      <td>NaN</td>\n",
              "      <td>NaN</td>\n",
              "    </tr>\n",
              "    <tr>\n",
              "      <th>DKD - 2023 - Annual Membership  (Register with PCMC Runners 2023 T-shirt)</th>\n",
              "      <td>NaN</td>\n",
              "      <td>153.0</td>\n",
              "      <td>169.0</td>\n",
              "      <td>94.0</td>\n",
              "      <td>147.0</td>\n",
              "    </tr>\n",
              "    <tr>\n",
              "      <th>DKD - 2023 - Annual Membership  (Register without T-shirt)</th>\n",
              "      <td>NaN</td>\n",
              "      <td>50.0</td>\n",
              "      <td>52.0</td>\n",
              "      <td>53.0</td>\n",
              "      <td>85.0</td>\n",
              "    </tr>\n",
              "    <tr>\n",
              "      <th>DKD - 2023 - Annual Membership (Register without T-shirt) with free entry to JUNE-25-2023 LSOM</th>\n",
              "      <td>3.0</td>\n",
              "      <td>NaN</td>\n",
              "      <td>NaN</td>\n",
              "      <td>NaN</td>\n",
              "      <td>NaN</td>\n",
              "    </tr>\n",
              "    <tr>\n",
              "      <th>No - Not Interested in Add ons now</th>\n",
              "      <td>NaN</td>\n",
              "      <td>27.0</td>\n",
              "      <td>11.0</td>\n",
              "      <td>10.0</td>\n",
              "      <td>18.0</td>\n",
              "    </tr>\n",
              "    <tr>\n",
              "      <th>No Addon</th>\n",
              "      <td>NaN</td>\n",
              "      <td>139.0</td>\n",
              "      <td>157.0</td>\n",
              "      <td>108.0</td>\n",
              "      <td>176.0</td>\n",
              "    </tr>\n",
              "    <tr>\n",
              "      <th>PCMC Runners - 2023 T-shirt</th>\n",
              "      <td>NaN</td>\n",
              "      <td>15.0</td>\n",
              "      <td>10.0</td>\n",
              "      <td>10.0</td>\n",
              "      <td>14.0</td>\n",
              "    </tr>\n",
              "    <tr>\n",
              "      <th>PCMC Runners Cycling Jersey</th>\n",
              "      <td>NaN</td>\n",
              "      <td>NaN</td>\n",
              "      <td>1.0</td>\n",
              "      <td>NaN</td>\n",
              "      <td>NaN</td>\n",
              "    </tr>\n",
              "    <tr>\n",
              "      <th>PCMC Runners Patch</th>\n",
              "      <td>NaN</td>\n",
              "      <td>20.0</td>\n",
              "      <td>9.0</td>\n",
              "      <td>9.0</td>\n",
              "      <td>17.0</td>\n",
              "    </tr>\n",
              "    <tr>\n",
              "      <th>PCMC Runners mug</th>\n",
              "      <td>NaN</td>\n",
              "      <td>3.0</td>\n",
              "      <td>4.0</td>\n",
              "      <td>6.0</td>\n",
              "      <td>4.0</td>\n",
              "    </tr>\n",
              "    <tr>\n",
              "      <th>PKP - Panch Ka Punch 5 K run</th>\n",
              "      <td>1.0</td>\n",
              "      <td>NaN</td>\n",
              "      <td>NaN</td>\n",
              "      <td>NaN</td>\n",
              "      <td>NaN</td>\n",
              "    </tr>\n",
              "    <tr>\n",
              "      <th>Ritebite Protein Bar ( Pack of 24 - 10Grams protein per bar )</th>\n",
              "      <td>1.0</td>\n",
              "      <td>NaN</td>\n",
              "      <td>NaN</td>\n",
              "      <td>NaN</td>\n",
              "      <td>NaN</td>\n",
              "    </tr>\n",
              "    <tr>\n",
              "      <th>Ritebite Protein Bar ( Pack of 24 - 10Grams protein per bar)</th>\n",
              "      <td>NaN</td>\n",
              "      <td>NaN</td>\n",
              "      <td>3.0</td>\n",
              "      <td>4.0</td>\n",
              "      <td>1.0</td>\n",
              "    </tr>\n",
              "  </tbody>\n",
              "</table>\n",
              "</div>"
            ],
            "text/plain": [
              "BIB , T Shirt Collection Location                        \\\n",
              "ticketName                                                \n",
              "DKD - 2022 Blue T-shirt  (Small Size unisex )       NaN   \n",
              "DKD - 2022 Blue T-shirt (Large Size - unisex )      NaN   \n",
              "DKD - 2022 Blue T-shirt (Medium Size - unisex )     NaN   \n",
              "DKD - 2022 Tee Shirt ( Limited stock )              1.0   \n",
              "DKD - 2023 - Annual Membership  (Register with ...  NaN   \n",
              "DKD - 2023 - Annual Membership  (Register witho...  NaN   \n",
              "DKD - 2023 - Annual Membership (Register withou...  3.0   \n",
              "No - Not Interested in Add ons now                  NaN   \n",
              "No Addon                                            NaN   \n",
              "PCMC Runners - 2023 T-shirt                         NaN   \n",
              "PCMC Runners Cycling Jersey                         NaN   \n",
              "PCMC Runners Patch                                  NaN   \n",
              "PCMC Runners mug                                    NaN   \n",
              "PKP - Panch Ka Punch 5 K run                        1.0   \n",
              "Ritebite Protein Bar ( Pack of 24 - 10Grams pro...  1.0   \n",
              "Ritebite Protein Bar ( Pack of 24 - 10Grams pro...  NaN   \n",
              "\n",
              "BIB , T Shirt Collection Location                   District Circle - Spine Road  \\\n",
              "ticketName                                                                         \n",
              "DKD - 2022 Blue T-shirt  (Small Size unisex )                                1.0   \n",
              "DKD - 2022 Blue T-shirt (Large Size - unisex )                              10.0   \n",
              "DKD - 2022 Blue T-shirt (Medium Size - unisex )                              4.0   \n",
              "DKD - 2022 Tee Shirt ( Limited stock )                                       NaN   \n",
              "DKD - 2023 - Annual Membership  (Register with ...                         153.0   \n",
              "DKD - 2023 - Annual Membership  (Register witho...                          50.0   \n",
              "DKD - 2023 - Annual Membership (Register withou...                           NaN   \n",
              "No - Not Interested in Add ons now                                          27.0   \n",
              "No Addon                                                                   139.0   \n",
              "PCMC Runners - 2023 T-shirt                                                 15.0   \n",
              "PCMC Runners Cycling Jersey                                                  NaN   \n",
              "PCMC Runners Patch                                                          20.0   \n",
              "PCMC Runners mug                                                             3.0   \n",
              "PKP - Panch Ka Punch 5 K run                                                 NaN   \n",
              "Ritebite Protein Bar ( Pack of 24 - 10Grams pro...                           NaN   \n",
              "Ritebite Protein Bar ( Pack of 24 - 10Grams pro...                           NaN   \n",
              "\n",
              "BIB , T Shirt Collection Location                   Ganesh Talav - Nigdi  \\\n",
              "ticketName                                                                 \n",
              "DKD - 2022 Blue T-shirt  (Small Size unisex )                        2.0   \n",
              "DKD - 2022 Blue T-shirt (Large Size - unisex )                       2.0   \n",
              "DKD - 2022 Blue T-shirt (Medium Size - unisex )                      4.0   \n",
              "DKD - 2022 Tee Shirt ( Limited stock )                               NaN   \n",
              "DKD - 2023 - Annual Membership  (Register with ...                 169.0   \n",
              "DKD - 2023 - Annual Membership  (Register witho...                  52.0   \n",
              "DKD - 2023 - Annual Membership (Register withou...                   NaN   \n",
              "No - Not Interested in Add ons now                                  11.0   \n",
              "No Addon                                                           157.0   \n",
              "PCMC Runners - 2023 T-shirt                                         10.0   \n",
              "PCMC Runners Cycling Jersey                                          1.0   \n",
              "PCMC Runners Patch                                                   9.0   \n",
              "PCMC Runners mug                                                     4.0   \n",
              "PKP - Panch Ka Punch 5 K run                                         NaN   \n",
              "Ritebite Protein Bar ( Pack of 24 - 10Grams pro...                   NaN   \n",
              "Ritebite Protein Bar ( Pack of 24 - 10Grams pro...                   3.0   \n",
              "\n",
              "BIB , T Shirt Collection Location                   Pavaneshwar Tea stall Chinchwad  \\\n",
              "ticketName                                                                            \n",
              "DKD - 2022 Blue T-shirt  (Small Size unisex )                                   NaN   \n",
              "DKD - 2022 Blue T-shirt (Large Size - unisex )                                  6.0   \n",
              "DKD - 2022 Blue T-shirt (Medium Size - unisex )                                 5.0   \n",
              "DKD - 2022 Tee Shirt ( Limited stock )                                          NaN   \n",
              "DKD - 2023 - Annual Membership  (Register with ...                             94.0   \n",
              "DKD - 2023 - Annual Membership  (Register witho...                             53.0   \n",
              "DKD - 2023 - Annual Membership (Register withou...                              NaN   \n",
              "No - Not Interested in Add ons now                                             10.0   \n",
              "No Addon                                                                      108.0   \n",
              "PCMC Runners - 2023 T-shirt                                                    10.0   \n",
              "PCMC Runners Cycling Jersey                                                     NaN   \n",
              "PCMC Runners Patch                                                              9.0   \n",
              "PCMC Runners mug                                                                6.0   \n",
              "PKP - Panch Ka Punch 5 K run                                                    NaN   \n",
              "Ritebite Protein Bar ( Pack of 24 - 10Grams pro...                              NaN   \n",
              "Ritebite Protein Bar ( Pack of 24 - 10Grams pro...                              4.0   \n",
              "\n",
              "BIB , T Shirt Collection Location                   Savitri Bai Phule garden - Wakad  \n",
              "ticketName                                                                            \n",
              "DKD - 2022 Blue T-shirt  (Small Size unisex )                                    5.0  \n",
              "DKD - 2022 Blue T-shirt (Large Size - unisex )                                  10.0  \n",
              "DKD - 2022 Blue T-shirt (Medium Size - unisex )                                  2.0  \n",
              "DKD - 2022 Tee Shirt ( Limited stock )                                           NaN  \n",
              "DKD - 2023 - Annual Membership  (Register with ...                             147.0  \n",
              "DKD - 2023 - Annual Membership  (Register witho...                              85.0  \n",
              "DKD - 2023 - Annual Membership (Register withou...                               NaN  \n",
              "No - Not Interested in Add ons now                                              18.0  \n",
              "No Addon                                                                       176.0  \n",
              "PCMC Runners - 2023 T-shirt                                                     14.0  \n",
              "PCMC Runners Cycling Jersey                                                      NaN  \n",
              "PCMC Runners Patch                                                              17.0  \n",
              "PCMC Runners mug                                                                 4.0  \n",
              "PKP - Panch Ka Punch 5 K run                                                     NaN  \n",
              "Ritebite Protein Bar ( Pack of 24 - 10Grams pro...                               NaN  \n",
              "Ritebite Protein Bar ( Pack of 24 - 10Grams pro...                               1.0  "
            ]
          },
          "execution_count": 23,
          "metadata": {},
          "output_type": "execute_result"
        }
      ],
      "source": [
        "df_tkt.pivot_table(columns=\"BIB , T Shirt Collection Location\",\n",
        "                index=['ticketName'],\n",
        "                values=\"ticketPrice\",\n",
        "                aggfunc=\"count\")"
      ]
    },
    {
      "cell_type": "code",
      "execution_count": 37,
      "metadata": {
        "id": "djPk3HPqNUfo"
      },
      "outputs": [],
      "source": [
        "## Search"
      ]
    },
    {
      "cell_type": "code",
      "execution_count": 26,
      "metadata": {},
      "outputs": [
        {
          "ename": "TypeError",
          "evalue": "to_html() got an unexpected keyword argument 'attr'",
          "output_type": "error",
          "traceback": [
            "\u001b[0;31m---------------------------------------------------------------------------\u001b[0m",
            "\u001b[0;31mTypeError\u001b[0m                                 Traceback (most recent call last)",
            "Cell \u001b[0;32mIn[26], line 1\u001b[0m\n\u001b[0;32m----> 1\u001b[0m \u001b[43mdf_tkt\u001b[49m\u001b[38;5;241;43m.\u001b[39;49m\u001b[43mhead\u001b[49m\u001b[43m(\u001b[49m\u001b[38;5;241;43m3\u001b[39;49m\u001b[43m)\u001b[49m\u001b[38;5;241;43m.\u001b[39;49m\u001b[43mto_html\u001b[49m\u001b[43m(\u001b[49m\u001b[43mattr\u001b[49m\u001b[38;5;241;43m=\u001b[39;49m\u001b[38;5;124;43m\"\u001b[39;49m\u001b[38;5;124;43mval\u001b[39;49m\u001b[38;5;124;43m\"\u001b[39;49m\u001b[43m)\u001b[49m\n",
            "\u001b[0;31mTypeError\u001b[0m: to_html() got an unexpected keyword argument 'attr'"
          ]
        }
      ],
      "source": [
        "df_tkt.head(3).to_html()"
      ]
    },
    {
      "cell_type": "code",
      "execution_count": null,
      "metadata": {},
      "outputs": [],
      "source": []
    }
  ],
  "metadata": {
    "colab": {
      "include_colab_link": true,
      "provenance": []
    },
    "kernelspec": {
      "display_name": "Python 3.9.2 64-bit",
      "metadata": {
        "interpreter": {
          "hash": "e7370f93d1d0cde622a1f8e1c04877d8463912d04d973331ad4851f04de6915a"
        }
      },
      "name": "Python 3.9.2 64-bit"
    },
    "language_info": {
      "name": "python",
      "version": "3.9.2-final"
    },
    "widgets": {
      "application/vnd.jupyter.widget-state+json": {
        "04b4abf3dcc0434db3ab617d703e5535": {
          "model_module": "@jupyter-widgets/controls",
          "model_module_version": "1.5.0",
          "model_name": "DescriptionStyleModel",
          "state": {
            "_model_module": "@jupyter-widgets/controls",
            "_model_module_version": "1.5.0",
            "_model_name": "DescriptionStyleModel",
            "_view_count": null,
            "_view_module": "@jupyter-widgets/base",
            "_view_module_version": "1.2.0",
            "_view_name": "StyleView",
            "description_width": ""
          }
        },
        "06f1a91f550c48f3b2804e8f274b9a8a": {
          "model_module": "@jupyter-widgets/controls",
          "model_module_version": "1.5.0",
          "model_name": "DescriptionStyleModel",
          "state": {
            "_model_module": "@jupyter-widgets/controls",
            "_model_module_version": "1.5.0",
            "_model_name": "DescriptionStyleModel",
            "_view_count": null,
            "_view_module": "@jupyter-widgets/base",
            "_view_module_version": "1.2.0",
            "_view_name": "StyleView",
            "description_width": ""
          }
        },
        "178aedb0d19b4204865534e1fc8d3e84": {
          "model_module": "@jupyter-widgets/base",
          "model_module_version": "1.2.0",
          "model_name": "LayoutModel",
          "state": {
            "_model_module": "@jupyter-widgets/base",
            "_model_module_version": "1.2.0",
            "_model_name": "LayoutModel",
            "_view_count": null,
            "_view_module": "@jupyter-widgets/base",
            "_view_module_version": "1.2.0",
            "_view_name": "LayoutView",
            "align_content": null,
            "align_items": null,
            "align_self": null,
            "border": null,
            "bottom": null,
            "display": null,
            "flex": null,
            "flex_flow": null,
            "grid_area": null,
            "grid_auto_columns": null,
            "grid_auto_flow": null,
            "grid_auto_rows": null,
            "grid_column": null,
            "grid_gap": null,
            "grid_row": null,
            "grid_template_areas": null,
            "grid_template_columns": null,
            "grid_template_rows": null,
            "height": null,
            "justify_content": null,
            "justify_items": null,
            "left": null,
            "margin": null,
            "max_height": null,
            "max_width": null,
            "min_height": null,
            "min_width": null,
            "object_fit": null,
            "object_position": null,
            "order": null,
            "overflow": null,
            "overflow_x": null,
            "overflow_y": null,
            "padding": null,
            "right": null,
            "top": null,
            "visibility": null,
            "width": null
          }
        },
        "5a7602ba67bc41f786659c961d057b8b": {
          "model_module": "@jupyter-widgets/controls",
          "model_module_version": "1.5.0",
          "model_name": "IntSliderModel",
          "state": {
            "_dom_classes": [],
            "_model_module": "@jupyter-widgets/controls",
            "_model_module_version": "1.5.0",
            "_model_name": "IntSliderModel",
            "_view_count": null,
            "_view_module": "@jupyter-widgets/controls",
            "_view_module_version": "1.5.0",
            "_view_name": "IntSliderView",
            "continuous_update": true,
            "description": "row",
            "description_tooltip": null,
            "disabled": false,
            "layout": "IPY_MODEL_bd7bc06262374c96a7e1847384efb40d",
            "max": 1206,
            "min": 0,
            "orientation": "horizontal",
            "readout": true,
            "readout_format": "d",
            "step": 15,
            "style": "IPY_MODEL_a7b046a3dc1c4b45a788958dcbb7955f",
            "value": 0
          }
        },
        "6c0eea791e494b0a8e6eb47c3e5edd07": {
          "model_module": "@jupyter-widgets/controls",
          "model_module_version": "1.5.0",
          "model_name": "TextModel",
          "state": {
            "_dom_classes": [],
            "_model_module": "@jupyter-widgets/controls",
            "_model_module_version": "1.5.0",
            "_model_name": "TextModel",
            "_view_count": null,
            "_view_module": "@jupyter-widgets/controls",
            "_view_module_version": "1.5.0",
            "_view_name": "TextView",
            "continuous_update": true,
            "description": "searchtext",
            "description_tooltip": null,
            "disabled": false,
            "layout": "IPY_MODEL_919f49a6528e4b23a8e844264167a877",
            "placeholder": "​",
            "style": "IPY_MODEL_e8ef14df357f4940a4bc4cc2df3cbacf",
            "value": ""
          }
        },
        "76c2ee2688124b19bca6eca34f4587d2": {
          "model_module": "@jupyter-widgets/controls",
          "model_module_version": "1.5.0",
          "model_name": "VBoxModel",
          "state": {
            "_dom_classes": [
              "widget-interact"
            ],
            "_model_module": "@jupyter-widgets/controls",
            "_model_module_version": "1.5.0",
            "_model_name": "VBoxModel",
            "_view_count": null,
            "_view_module": "@jupyter-widgets/controls",
            "_view_module_version": "1.5.0",
            "_view_name": "VBoxView",
            "box_style": "",
            "children": [
              "IPY_MODEL_f2a656c64eee4eeea2b35a794076c28d",
              "IPY_MODEL_6c0eea791e494b0a8e6eb47c3e5edd07",
              "IPY_MODEL_5a7602ba67bc41f786659c961d057b8b",
              "IPY_MODEL_a512159de68b47afb7285301e24b41b3",
              "IPY_MODEL_d9b1ad133d8d4236b26a91716ff71f70"
            ],
            "layout": "IPY_MODEL_8fe2b0101b9e403ba34fa5984babc620"
          }
        },
        "7c6a77de731c490486271f7e9a2bb8b8": {
          "model_module": "@jupyter-widgets/base",
          "model_module_version": "1.2.0",
          "model_name": "LayoutModel",
          "state": {
            "_model_module": "@jupyter-widgets/base",
            "_model_module_version": "1.2.0",
            "_model_name": "LayoutModel",
            "_view_count": null,
            "_view_module": "@jupyter-widgets/base",
            "_view_module_version": "1.2.0",
            "_view_name": "LayoutView",
            "align_content": null,
            "align_items": null,
            "align_self": null,
            "border": null,
            "bottom": null,
            "display": null,
            "flex": null,
            "flex_flow": null,
            "grid_area": null,
            "grid_auto_columns": null,
            "grid_auto_flow": null,
            "grid_auto_rows": null,
            "grid_column": null,
            "grid_gap": null,
            "grid_row": null,
            "grid_template_areas": null,
            "grid_template_columns": null,
            "grid_template_rows": null,
            "height": null,
            "justify_content": null,
            "justify_items": null,
            "left": null,
            "margin": null,
            "max_height": null,
            "max_width": null,
            "min_height": null,
            "min_width": null,
            "object_fit": null,
            "object_position": null,
            "order": null,
            "overflow": null,
            "overflow_x": null,
            "overflow_y": null,
            "padding": null,
            "right": null,
            "top": null,
            "visibility": null,
            "width": null
          }
        },
        "80f7a895952a4317b3e8ffee95dbeb4f": {
          "model_module": "@jupyter-widgets/base",
          "model_module_version": "1.2.0",
          "model_name": "LayoutModel",
          "state": {
            "_model_module": "@jupyter-widgets/base",
            "_model_module_version": "1.2.0",
            "_model_name": "LayoutModel",
            "_view_count": null,
            "_view_module": "@jupyter-widgets/base",
            "_view_module_version": "1.2.0",
            "_view_name": "LayoutView",
            "align_content": null,
            "align_items": null,
            "align_self": null,
            "border": null,
            "bottom": null,
            "display": null,
            "flex": null,
            "flex_flow": null,
            "grid_area": null,
            "grid_auto_columns": null,
            "grid_auto_flow": null,
            "grid_auto_rows": null,
            "grid_column": null,
            "grid_gap": null,
            "grid_row": null,
            "grid_template_areas": null,
            "grid_template_columns": null,
            "grid_template_rows": null,
            "height": null,
            "justify_content": null,
            "justify_items": null,
            "left": null,
            "margin": null,
            "max_height": null,
            "max_width": null,
            "min_height": null,
            "min_width": null,
            "object_fit": null,
            "object_position": null,
            "order": null,
            "overflow": null,
            "overflow_x": null,
            "overflow_y": null,
            "padding": null,
            "right": null,
            "top": null,
            "visibility": null,
            "width": null
          }
        },
        "8fe2b0101b9e403ba34fa5984babc620": {
          "model_module": "@jupyter-widgets/base",
          "model_module_version": "1.2.0",
          "model_name": "LayoutModel",
          "state": {
            "_model_module": "@jupyter-widgets/base",
            "_model_module_version": "1.2.0",
            "_model_name": "LayoutModel",
            "_view_count": null,
            "_view_module": "@jupyter-widgets/base",
            "_view_module_version": "1.2.0",
            "_view_name": "LayoutView",
            "align_content": null,
            "align_items": null,
            "align_self": null,
            "border": null,
            "bottom": null,
            "display": null,
            "flex": null,
            "flex_flow": null,
            "grid_area": null,
            "grid_auto_columns": null,
            "grid_auto_flow": null,
            "grid_auto_rows": null,
            "grid_column": null,
            "grid_gap": null,
            "grid_row": null,
            "grid_template_areas": null,
            "grid_template_columns": null,
            "grid_template_rows": null,
            "height": null,
            "justify_content": null,
            "justify_items": null,
            "left": null,
            "margin": null,
            "max_height": null,
            "max_width": null,
            "min_height": null,
            "min_width": null,
            "object_fit": null,
            "object_position": null,
            "order": null,
            "overflow": null,
            "overflow_x": null,
            "overflow_y": null,
            "padding": null,
            "right": null,
            "top": null,
            "visibility": null,
            "width": null
          }
        },
        "919f49a6528e4b23a8e844264167a877": {
          "model_module": "@jupyter-widgets/base",
          "model_module_version": "1.2.0",
          "model_name": "LayoutModel",
          "state": {
            "_model_module": "@jupyter-widgets/base",
            "_model_module_version": "1.2.0",
            "_model_name": "LayoutModel",
            "_view_count": null,
            "_view_module": "@jupyter-widgets/base",
            "_view_module_version": "1.2.0",
            "_view_name": "LayoutView",
            "align_content": null,
            "align_items": null,
            "align_self": null,
            "border": null,
            "bottom": null,
            "display": null,
            "flex": null,
            "flex_flow": null,
            "grid_area": null,
            "grid_auto_columns": null,
            "grid_auto_flow": null,
            "grid_auto_rows": null,
            "grid_column": null,
            "grid_gap": null,
            "grid_row": null,
            "grid_template_areas": null,
            "grid_template_columns": null,
            "grid_template_rows": null,
            "height": null,
            "justify_content": null,
            "justify_items": null,
            "left": null,
            "margin": null,
            "max_height": null,
            "max_width": null,
            "min_height": null,
            "min_width": null,
            "object_fit": null,
            "object_position": null,
            "order": null,
            "overflow": null,
            "overflow_x": null,
            "overflow_y": null,
            "padding": null,
            "right": null,
            "top": null,
            "visibility": null,
            "width": null
          }
        },
        "a512159de68b47afb7285301e24b41b3": {
          "model_module": "@jupyter-widgets/controls",
          "model_module_version": "1.5.0",
          "model_name": "CheckboxModel",
          "state": {
            "_dom_classes": [],
            "_model_module": "@jupyter-widgets/controls",
            "_model_module_version": "1.5.0",
            "_model_name": "CheckboxModel",
            "_view_count": null,
            "_view_module": "@jupyter-widgets/controls",
            "_view_module_version": "1.5.0",
            "_view_name": "CheckboxView",
            "description": "asc",
            "description_tooltip": null,
            "disabled": false,
            "indent": true,
            "layout": "IPY_MODEL_80f7a895952a4317b3e8ffee95dbeb4f",
            "style": "IPY_MODEL_06f1a91f550c48f3b2804e8f274b9a8a",
            "value": true
          }
        },
        "a7b046a3dc1c4b45a788958dcbb7955f": {
          "model_module": "@jupyter-widgets/controls",
          "model_module_version": "1.5.0",
          "model_name": "SliderStyleModel",
          "state": {
            "_model_module": "@jupyter-widgets/controls",
            "_model_module_version": "1.5.0",
            "_model_name": "SliderStyleModel",
            "_view_count": null,
            "_view_module": "@jupyter-widgets/base",
            "_view_module_version": "1.2.0",
            "_view_name": "StyleView",
            "description_width": "",
            "handle_color": null
          }
        },
        "bd7bc06262374c96a7e1847384efb40d": {
          "model_module": "@jupyter-widgets/base",
          "model_module_version": "1.2.0",
          "model_name": "LayoutModel",
          "state": {
            "_model_module": "@jupyter-widgets/base",
            "_model_module_version": "1.2.0",
            "_model_name": "LayoutModel",
            "_view_count": null,
            "_view_module": "@jupyter-widgets/base",
            "_view_module_version": "1.2.0",
            "_view_name": "LayoutView",
            "align_content": null,
            "align_items": null,
            "align_self": null,
            "border": null,
            "bottom": null,
            "display": null,
            "flex": null,
            "flex_flow": null,
            "grid_area": null,
            "grid_auto_columns": null,
            "grid_auto_flow": null,
            "grid_auto_rows": null,
            "grid_column": null,
            "grid_gap": null,
            "grid_row": null,
            "grid_template_areas": null,
            "grid_template_columns": null,
            "grid_template_rows": null,
            "height": null,
            "justify_content": null,
            "justify_items": null,
            "left": null,
            "margin": null,
            "max_height": null,
            "max_width": null,
            "min_height": null,
            "min_width": null,
            "object_fit": null,
            "object_position": null,
            "order": null,
            "overflow": null,
            "overflow_x": null,
            "overflow_y": null,
            "padding": null,
            "right": null,
            "top": null,
            "visibility": null,
            "width": null
          }
        },
        "d9b1ad133d8d4236b26a91716ff71f70": {
          "model_module": "@jupyter-widgets/output",
          "model_module_version": "1.0.0",
          "model_name": "OutputModel",
          "state": {
            "_dom_classes": [],
            "_model_module": "@jupyter-widgets/output",
            "_model_module_version": "1.0.0",
            "_model_name": "OutputModel",
            "_view_count": null,
            "_view_module": "@jupyter-widgets/output",
            "_view_module_version": "1.0.0",
            "_view_name": "OutputView",
            "layout": "IPY_MODEL_7c6a77de731c490486271f7e9a2bb8b8",
            "msg_id": "",
            "outputs": [
              {
                "data": {
                  "text/html": "<style type=\"text/css\">\n</style>\n<table id=\"T_3860f\" class=\"dataframe\">\n  <thead>\n    <tr>\n      <th class=\"blank level0\" >&nbsp;</th>\n      <th id=\"T_3860f_level0_col0\" class=\"col_heading level0 col0\" >registrationId</th>\n      <th id=\"T_3860f_level0_col1\" class=\"col_heading level0 col1\" >registrationTimestamp</th>\n      <th id=\"T_3860f_level0_col2\" class=\"col_heading level0 col2\" >userName</th>\n      <th id=\"T_3860f_level0_col3\" class=\"col_heading level0 col3\" >allTicketName</th>\n      <th id=\"T_3860f_level0_col4\" class=\"col_heading level0 col4\" >totalTicketAmount</th>\n      <th id=\"T_3860f_level0_col5\" class=\"col_heading level0 col5\" >discountCode2</th>\n      <th id=\"T_3860f_level0_col6\" class=\"col_heading level0 col6\" >discountCode1</th>\n      <th id=\"T_3860f_level0_col7\" class=\"col_heading level0 col7\" >uniqueOrderId</th>\n      <th id=\"T_3860f_level0_col8\" class=\"col_heading level0 col8\" >ticketPrice1</th>\n      <th id=\"T_3860f_level0_col9\" class=\"col_heading level0 col9\" >ticketPrice2</th>\n      <th id=\"T_3860f_level0_col10\" class=\"col_heading level0 col10\" >ticketName2</th>\n      <th id=\"T_3860f_level0_col11\" class=\"col_heading level0 col11\" >ticketName1</th>\n      <th id=\"T_3860f_level0_col12\" class=\"col_heading level0 col12\" >userEmailId</th>\n      <th id=\"T_3860f_level0_col13\" class=\"col_heading level0 col13\" >currency</th>\n      <th id=\"T_3860f_level0_col14\" class=\"col_heading level0 col14\" >discountAmount1</th>\n      <th id=\"T_3860f_level0_col15\" class=\"col_heading level0 col15\" >discountAmount2</th>\n      <th id=\"T_3860f_level0_col16\" class=\"col_heading level0 col16\" >discountAmount</th>\n      <th id=\"T_3860f_level0_col17\" class=\"col_heading level0 col17\" >ticketPrice</th>\n      <th id=\"T_3860f_level0_col18\" class=\"col_heading level0 col18\" >ticketName</th>\n      <th id=\"T_3860f_level0_col19\" class=\"col_heading level0 col19\" >discountCode</th>\n      <th id=\"T_3860f_level0_col20\" class=\"col_heading level0 col20\" >discountCode3</th>\n      <th id=\"T_3860f_level0_col21\" class=\"col_heading level0 col21\" >ticketPrice3</th>\n      <th id=\"T_3860f_level0_col22\" class=\"col_heading level0 col22\" >ticketName3</th>\n      <th id=\"T_3860f_level0_col23\" class=\"col_heading level0 col23\" >discountAmount3</th>\n      <th id=\"T_3860f_level0_col24\" class=\"col_heading level0 col24\" >Contact Number</th>\n      <th id=\"T_3860f_level0_col25\" class=\"col_heading level0 col25\" >Gender</th>\n      <th id=\"T_3860f_level0_col26\" class=\"col_heading level0 col26\" >Date Of birth</th>\n      <th id=\"T_3860f_level0_col27\" class=\"col_heading level0 col27\" >T Shirt option</th>\n      <th id=\"T_3860f_level0_col28\" class=\"col_heading level0 col28\" >T-shirt size</th>\n      <th id=\"T_3860f_level0_col29\" class=\"col_heading level0 col29\" >BIB , T Shirt Collection Location</th>\n      <th id=\"T_3860f_level0_col30\" class=\"col_heading level0 col30\" >Name on the T Shirt( type Blank if you don't want to print anything)</th>\n      <th id=\"T_3860f_level0_col31\" class=\"col_heading level0 col31\" >Emergency Contact Name</th>\n      <th id=\"T_3860f_level0_col32\" class=\"col_heading level0 col32\" >Emergency Contact Number</th>\n      <th id=\"T_3860f_level0_col33\" class=\"col_heading level0 col33\" >Pincode/Zipcode/Postcode</th>\n      <th id=\"T_3860f_level0_col34\" class=\"col_heading level0 col34\" >Your Society</th>\n      <th id=\"T_3860f_level0_col35\" class=\"col_heading level0 col35\" >How did you come to know about the event</th>\n      <th id=\"T_3860f_level0_col36\" class=\"col_heading level0 col36\" >Choose your distance for JUNE-25 LSOM at district  circle spine road</th>\n    </tr>\n  </thead>\n  <tbody>\n    <tr>\n      <th id=\"T_3860f_level0_row0\" class=\"row_heading level0 row0\" >983</th>\n      <td id=\"T_3860f_row0_col0\" class=\"data row0 col0\" >9498181</td>\n      <td id=\"T_3860f_row0_col1\" class=\"data row0 col1\" >12-12-2022 11:49</td>\n      <td id=\"T_3860f_row0_col2\" class=\"data row0 col2\" >Shweta Shah</td>\n      <td id=\"T_3860f_row0_col3\" class=\"data row0 col3\" >PKP - Panch Ka Punch 5 K run</td>\n      <td id=\"T_3860f_row0_col4\" class=\"data row0 col4\" >1100.00</td>\n      <td id=\"T_3860f_row0_col5\" class=\"data row0 col5\" >nan</td>\n      <td id=\"T_3860f_row0_col6\" class=\"data row0 col6\" >nan</td>\n      <td id=\"T_3860f_row0_col7\" class=\"data row0 col7\" >531311670825839067</td>\n      <td id=\"T_3860f_row0_col8\" class=\"data row0 col8\" >nan</td>\n      <td id=\"T_3860f_row0_col9\" class=\"data row0 col9\" >nan</td>\n      <td id=\"T_3860f_row0_col10\" class=\"data row0 col10\" >nan</td>\n      <td id=\"T_3860f_row0_col11\" class=\"data row0 col11\" >nan</td>\n      <td id=\"T_3860f_row0_col12\" class=\"data row0 col12\" >shweta.shah09@gmail.com</td>\n      <td id=\"T_3860f_row0_col13\" class=\"data row0 col13\" >INR</td>\n      <td id=\"T_3860f_row0_col14\" class=\"data row0 col14\" >nan</td>\n      <td id=\"T_3860f_row0_col15\" class=\"data row0 col15\" >nan</td>\n      <td id=\"T_3860f_row0_col16\" class=\"data row0 col16\" >0.000000</td>\n      <td id=\"T_3860f_row0_col17\" class=\"data row0 col17\" >1100.000000</td>\n      <td id=\"T_3860f_row0_col18\" class=\"data row0 col18\" >PKP - Panch Ka Punch 5 K run</td>\n      <td id=\"T_3860f_row0_col19\" class=\"data row0 col19\" >NA</td>\n      <td id=\"T_3860f_row0_col20\" class=\"data row0 col20\" >nan</td>\n      <td id=\"T_3860f_row0_col21\" class=\"data row0 col21\" >nan</td>\n      <td id=\"T_3860f_row0_col22\" class=\"data row0 col22\" >nan</td>\n      <td id=\"T_3860f_row0_col23\" class=\"data row0 col23\" >nan</td>\n      <td id=\"T_3860f_row0_col24\" class=\"data row0 col24\" >+919689193555</td>\n      <td id=\"T_3860f_row0_col25\" class=\"data row0 col25\" >Female</td>\n      <td id=\"T_3860f_row0_col26\" class=\"data row0 col26\" >09-10-1984</td>\n      <td id=\"T_3860f_row0_col27\" class=\"data row0 col27\" >nan</td>\n      <td id=\"T_3860f_row0_col28\" class=\"data row0 col28\" >XXL - Extra-Extra-Large</td>\n      <td id=\"T_3860f_row0_col29\" class=\"data row0 col29\" >nan</td>\n      <td id=\"T_3860f_row0_col30\" class=\"data row0 col30\" >nan</td>\n      <td id=\"T_3860f_row0_col31\" class=\"data row0 col31\" >Ashok Shah</td>\n      <td id=\"T_3860f_row0_col32\" class=\"data row0 col32\" >+919766464666</td>\n      <td id=\"T_3860f_row0_col33\" class=\"data row0 col33\" >411033</td>\n      <td id=\"T_3860f_row0_col34\" class=\"data row0 col34\" >Metropolitan hsg soc</td>\n      <td id=\"T_3860f_row0_col35\" class=\"data row0 col35\" >Other</td>\n      <td id=\"T_3860f_row0_col36\" class=\"data row0 col36\" >nan</td>\n    </tr>\n    <tr>\n      <th id=\"T_3860f_level0_row1\" class=\"row_heading level0 row1\" >534</th>\n      <td id=\"T_3860f_row1_col0\" class=\"data row1 col0\" >9577411</td>\n      <td id=\"T_3860f_row1_col1\" class=\"data row1 col1\" >21-12-2022 17:46</td>\n      <td id=\"T_3860f_row1_col2\" class=\"data row1 col2\" >Rakesh Mehta</td>\n      <td id=\"T_3860f_row1_col3\" class=\"data row1 col3\" >DKD - 2022 Tee Shirt ( Limited stock )</td>\n      <td id=\"T_3860f_row1_col4\" class=\"data row1 col4\" >300.00</td>\n      <td id=\"T_3860f_row1_col5\" class=\"data row1 col5\" >nan</td>\n      <td id=\"T_3860f_row1_col6\" class=\"data row1 col6\" >nan</td>\n      <td id=\"T_3860f_row1_col7\" class=\"data row1 col7\" >303441671624983867</td>\n      <td id=\"T_3860f_row1_col8\" class=\"data row1 col8\" >nan</td>\n      <td id=\"T_3860f_row1_col9\" class=\"data row1 col9\" >nan</td>\n      <td id=\"T_3860f_row1_col10\" class=\"data row1 col10\" >nan</td>\n      <td id=\"T_3860f_row1_col11\" class=\"data row1 col11\" >nan</td>\n      <td id=\"T_3860f_row1_col12\" class=\"data row1 col12\" >mehtarakesh263@gmail.com</td>\n      <td id=\"T_3860f_row1_col13\" class=\"data row1 col13\" >INR</td>\n      <td id=\"T_3860f_row1_col14\" class=\"data row1 col14\" >nan</td>\n      <td id=\"T_3860f_row1_col15\" class=\"data row1 col15\" >nan</td>\n      <td id=\"T_3860f_row1_col16\" class=\"data row1 col16\" >0.000000</td>\n      <td id=\"T_3860f_row1_col17\" class=\"data row1 col17\" >300.000000</td>\n      <td id=\"T_3860f_row1_col18\" class=\"data row1 col18\" >DKD - 2022 Tee Shirt ( Limited stock )</td>\n      <td id=\"T_3860f_row1_col19\" class=\"data row1 col19\" >NA</td>\n      <td id=\"T_3860f_row1_col20\" class=\"data row1 col20\" >nan</td>\n      <td id=\"T_3860f_row1_col21\" class=\"data row1 col21\" >nan</td>\n      <td id=\"T_3860f_row1_col22\" class=\"data row1 col22\" >nan</td>\n      <td id=\"T_3860f_row1_col23\" class=\"data row1 col23\" >nan</td>\n      <td id=\"T_3860f_row1_col24\" class=\"data row1 col24\" >+918825029825</td>\n      <td id=\"T_3860f_row1_col25\" class=\"data row1 col25\" >Male</td>\n      <td id=\"T_3860f_row1_col26\" class=\"data row1 col26\" >nan</td>\n      <td id=\"T_3860f_row1_col27\" class=\"data row1 col27\" >nan</td>\n      <td id=\"T_3860f_row1_col28\" class=\"data row1 col28\" >XL - Extra large</td>\n      <td id=\"T_3860f_row1_col29\" class=\"data row1 col29\" >nan</td>\n      <td id=\"T_3860f_row1_col30\" class=\"data row1 col30\" >nan</td>\n      <td id=\"T_3860f_row1_col31\" class=\"data row1 col31\" >nan</td>\n      <td id=\"T_3860f_row1_col32\" class=\"data row1 col32\" >nan</td>\n      <td id=\"T_3860f_row1_col33\" class=\"data row1 col33\" >nan</td>\n      <td id=\"T_3860f_row1_col34\" class=\"data row1 col34\" >nan</td>\n      <td id=\"T_3860f_row1_col35\" class=\"data row1 col35\" >nan</td>\n      <td id=\"T_3860f_row1_col36\" class=\"data row1 col36\" >nan</td>\n    </tr>\n    <tr>\n      <th id=\"T_3860f_level0_row2\" class=\"row_heading level0 row2\" >7</th>\n      <td id=\"T_3860f_row2_col0\" class=\"data row2 col0\" >9588894</td>\n      <td id=\"T_3860f_row2_col1\" class=\"data row2 col1\" >23-12-2022 12:06</td>\n      <td id=\"T_3860f_row2_col2\" class=\"data row2 col2\" >Tanmay Gawde</td>\n      <td id=\"T_3860f_row2_col3\" class=\"data row2 col3\" >DKD - 2023 - Annual Membership  (Register with PCMC Runners 2023 T-shirt)|PCMC Runners Patch</td>\n      <td id=\"T_3860f_row2_col4\" class=\"data row2 col4\" >850.00</td>\n      <td id=\"T_3860f_row2_col5\" class=\"data row2 col5\" >NA</td>\n      <td id=\"T_3860f_row2_col6\" class=\"data row2 col6\" >pcmcrunners</td>\n      <td id=\"T_3860f_row2_col7\" class=\"data row2 col7\" >626551671777272128</td>\n      <td id=\"T_3860f_row2_col8\" class=\"data row2 col8\" >1200.000000</td>\n      <td id=\"T_3860f_row2_col9\" class=\"data row2 col9\" >50.000000</td>\n      <td id=\"T_3860f_row2_col10\" class=\"data row2 col10\" >PCMC Runners Patch</td>\n      <td id=\"T_3860f_row2_col11\" class=\"data row2 col11\" >DKD - 2023 - Annual Membership  (Register with PCMC Runners 2023 T-shirt)</td>\n      <td id=\"T_3860f_row2_col12\" class=\"data row2 col12\" >tanmaygawde311@gmail.com</td>\n      <td id=\"T_3860f_row2_col13\" class=\"data row2 col13\" >INR</td>\n      <td id=\"T_3860f_row2_col14\" class=\"data row2 col14\" >400.000000</td>\n      <td id=\"T_3860f_row2_col15\" class=\"data row2 col15\" >0.000000</td>\n      <td id=\"T_3860f_row2_col16\" class=\"data row2 col16\" >nan</td>\n      <td id=\"T_3860f_row2_col17\" class=\"data row2 col17\" >nan</td>\n      <td id=\"T_3860f_row2_col18\" class=\"data row2 col18\" >nan</td>\n      <td id=\"T_3860f_row2_col19\" class=\"data row2 col19\" >nan</td>\n      <td id=\"T_3860f_row2_col20\" class=\"data row2 col20\" >nan</td>\n      <td id=\"T_3860f_row2_col21\" class=\"data row2 col21\" >nan</td>\n      <td id=\"T_3860f_row2_col22\" class=\"data row2 col22\" >nan</td>\n      <td id=\"T_3860f_row2_col23\" class=\"data row2 col23\" >nan</td>\n      <td id=\"T_3860f_row2_col24\" class=\"data row2 col24\" >+918308910086</td>\n      <td id=\"T_3860f_row2_col25\" class=\"data row2 col25\" >Male</td>\n      <td id=\"T_3860f_row2_col26\" class=\"data row2 col26\" >03-11-1995</td>\n      <td id=\"T_3860f_row2_col27\" class=\"data row2 col27\" >Singlet</td>\n      <td id=\"T_3860f_row2_col28\" class=\"data row2 col28\" >M - Medium</td>\n      <td id=\"T_3860f_row2_col29\" class=\"data row2 col29\" >Ganesh Talav - Nigdi</td>\n      <td id=\"T_3860f_row2_col30\" class=\"data row2 col30\" >T for Tanmay</td>\n      <td id=\"T_3860f_row2_col31\" class=\"data row2 col31\" >Dinesh Gawde</td>\n      <td id=\"T_3860f_row2_col32\" class=\"data row2 col32\" >+919004576665</td>\n      <td id=\"T_3860f_row2_col33\" class=\"data row2 col33\" >411033</td>\n      <td id=\"T_3860f_row2_col34\" class=\"data row2 col34\" >nan</td>\n      <td id=\"T_3860f_row2_col35\" class=\"data row2 col35\" >WhatsApp</td>\n      <td id=\"T_3860f_row2_col36\" class=\"data row2 col36\" >nan</td>\n    </tr>\n    <tr>\n      <th id=\"T_3860f_level0_row3\" class=\"row_heading level0 row3\" >25</th>\n      <td id=\"T_3860f_row3_col0\" class=\"data row3 col0\" >9588904</td>\n      <td id=\"T_3860f_row3_col1\" class=\"data row3 col1\" >23-12-2022 12:08</td>\n      <td id=\"T_3860f_row3_col2\" class=\"data row3 col2\" >Vinay Kale</td>\n      <td id=\"T_3860f_row3_col3\" class=\"data row3 col3\" >DKD - 2023 - Annual Membership  (Register with PCMC Runners 2023 T-shirt)|No - Not Interested in Add ons now</td>\n      <td id=\"T_3860f_row3_col4\" class=\"data row3 col4\" >800.00</td>\n      <td id=\"T_3860f_row3_col5\" class=\"data row3 col5\" >NA</td>\n      <td id=\"T_3860f_row3_col6\" class=\"data row3 col6\" >pcmcrunners</td>\n      <td id=\"T_3860f_row3_col7\" class=\"data row3 col7\" >204311671777439296</td>\n      <td id=\"T_3860f_row3_col8\" class=\"data row3 col8\" >1200.000000</td>\n      <td id=\"T_3860f_row3_col9\" class=\"data row3 col9\" >0.000000</td>\n      <td id=\"T_3860f_row3_col10\" class=\"data row3 col10\" >No - Not Interested in Add ons now</td>\n      <td id=\"T_3860f_row3_col11\" class=\"data row3 col11\" >DKD - 2023 - Annual Membership  (Register with PCMC Runners 2023 T-shirt)</td>\n      <td id=\"T_3860f_row3_col12\" class=\"data row3 col12\" >vinurk@yahoo.com</td>\n      <td id=\"T_3860f_row3_col13\" class=\"data row3 col13\" >INR</td>\n      <td id=\"T_3860f_row3_col14\" class=\"data row3 col14\" >400.000000</td>\n      <td id=\"T_3860f_row3_col15\" class=\"data row3 col15\" >0.000000</td>\n      <td id=\"T_3860f_row3_col16\" class=\"data row3 col16\" >nan</td>\n      <td id=\"T_3860f_row3_col17\" class=\"data row3 col17\" >nan</td>\n      <td id=\"T_3860f_row3_col18\" class=\"data row3 col18\" >nan</td>\n      <td id=\"T_3860f_row3_col19\" class=\"data row3 col19\" >nan</td>\n      <td id=\"T_3860f_row3_col20\" class=\"data row3 col20\" >nan</td>\n      <td id=\"T_3860f_row3_col21\" class=\"data row3 col21\" >nan</td>\n      <td id=\"T_3860f_row3_col22\" class=\"data row3 col22\" >nan</td>\n      <td id=\"T_3860f_row3_col23\" class=\"data row3 col23\" >nan</td>\n      <td id=\"T_3860f_row3_col24\" class=\"data row3 col24\" >+919970923436</td>\n      <td id=\"T_3860f_row3_col25\" class=\"data row3 col25\" >Male</td>\n      <td id=\"T_3860f_row3_col26\" class=\"data row3 col26\" >24-03-1977</td>\n      <td id=\"T_3860f_row3_col27\" class=\"data row3 col27\" >With Sleeves</td>\n      <td id=\"T_3860f_row3_col28\" class=\"data row3 col28\" >L - Large</td>\n      <td id=\"T_3860f_row3_col29\" class=\"data row3 col29\" >Savitri Bai Phule garden - Wakad</td>\n      <td id=\"T_3860f_row3_col30\" class=\"data row3 col30\" >VINAY</td>\n      <td id=\"T_3860f_row3_col31\" class=\"data row3 col31\" >Vinita</td>\n      <td id=\"T_3860f_row3_col32\" class=\"data row3 col32\" >+919960062870</td>\n      <td id=\"T_3860f_row3_col33\" class=\"data row3 col33\" >411027</td>\n      <td id=\"T_3860f_row3_col34\" class=\"data row3 col34\" >nan</td>\n      <td id=\"T_3860f_row3_col35\" class=\"data row3 col35\" >Via friend</td>\n      <td id=\"T_3860f_row3_col36\" class=\"data row3 col36\" >nan</td>\n    </tr>\n    <tr>\n      <th id=\"T_3860f_level0_row4\" class=\"row_heading level0 row4\" >11</th>\n      <td id=\"T_3860f_row4_col0\" class=\"data row4 col0\" >9588914</td>\n      <td id=\"T_3860f_row4_col1\" class=\"data row4 col1\" >23-12-2022 12:09</td>\n      <td id=\"T_3860f_row4_col2\" class=\"data row4 col2\" >Kavita Mangesh Kolhe</td>\n      <td id=\"T_3860f_row4_col3\" class=\"data row4 col3\" >DKD - 2023 - Annual Membership  (Register with PCMC Runners 2023 T-shirt)|PCMC Runners mug|PCMC Runners Patch</td>\n      <td id=\"T_3860f_row4_col4\" class=\"data row4 col4\" >1050.00</td>\n      <td id=\"T_3860f_row4_col5\" class=\"data row4 col5\" >NA</td>\n      <td id=\"T_3860f_row4_col6\" class=\"data row4 col6\" >pcmcrunners</td>\n      <td id=\"T_3860f_row4_col7\" class=\"data row4 col7\" >500171671777500900</td>\n      <td id=\"T_3860f_row4_col8\" class=\"data row4 col8\" >1200.000000</td>\n      <td id=\"T_3860f_row4_col9\" class=\"data row4 col9\" >200.000000</td>\n      <td id=\"T_3860f_row4_col10\" class=\"data row4 col10\" >PCMC Runners mug</td>\n      <td id=\"T_3860f_row4_col11\" class=\"data row4 col11\" >DKD - 2023 - Annual Membership  (Register with PCMC Runners 2023 T-shirt)</td>\n      <td id=\"T_3860f_row4_col12\" class=\"data row4 col12\" >kavi.kolhe@gmail.com</td>\n      <td id=\"T_3860f_row4_col13\" class=\"data row4 col13\" >INR</td>\n      <td id=\"T_3860f_row4_col14\" class=\"data row4 col14\" >400.000000</td>\n      <td id=\"T_3860f_row4_col15\" class=\"data row4 col15\" >0.000000</td>\n      <td id=\"T_3860f_row4_col16\" class=\"data row4 col16\" >nan</td>\n      <td id=\"T_3860f_row4_col17\" class=\"data row4 col17\" >nan</td>\n      <td id=\"T_3860f_row4_col18\" class=\"data row4 col18\" >nan</td>\n      <td id=\"T_3860f_row4_col19\" class=\"data row4 col19\" >nan</td>\n      <td id=\"T_3860f_row4_col20\" class=\"data row4 col20\" >NA</td>\n      <td id=\"T_3860f_row4_col21\" class=\"data row4 col21\" >50.000000</td>\n      <td id=\"T_3860f_row4_col22\" class=\"data row4 col22\" >PCMC Runners Patch</td>\n      <td id=\"T_3860f_row4_col23\" class=\"data row4 col23\" >0.000000</td>\n      <td id=\"T_3860f_row4_col24\" class=\"data row4 col24\" >+919822612533</td>\n      <td id=\"T_3860f_row4_col25\" class=\"data row4 col25\" >Female</td>\n      <td id=\"T_3860f_row4_col26\" class=\"data row4 col26\" >30-10-1978</td>\n      <td id=\"T_3860f_row4_col27\" class=\"data row4 col27\" >With Sleeves</td>\n      <td id=\"T_3860f_row4_col28\" class=\"data row4 col28\" >L - Large</td>\n      <td id=\"T_3860f_row4_col29\" class=\"data row4 col29\" >Pavaneshwar Tea stall Chinchwad</td>\n      <td id=\"T_3860f_row4_col30\" class=\"data row4 col30\" >KAVITA</td>\n      <td id=\"T_3860f_row4_col31\" class=\"data row4 col31\" >Mangesh Kolhe</td>\n      <td id=\"T_3860f_row4_col32\" class=\"data row4 col32\" >+919822054038</td>\n      <td id=\"T_3860f_row4_col33\" class=\"data row4 col33\" >411033</td>\n      <td id=\"T_3860f_row4_col34\" class=\"data row4 col34\" >Queenstown Chinchwad</td>\n      <td id=\"T_3860f_row4_col35\" class=\"data row4 col35\" >WhatsApp</td>\n      <td id=\"T_3860f_row4_col36\" class=\"data row4 col36\" >nan</td>\n    </tr>\n    <tr>\n      <th id=\"T_3860f_level0_row5\" class=\"row_heading level0 row5\" >15</th>\n      <td id=\"T_3860f_row5_col0\" class=\"data row5 col0\" >9588922</td>\n      <td id=\"T_3860f_row5_col1\" class=\"data row5 col1\" >23-12-2022 12:12</td>\n      <td id=\"T_3860f_row5_col2\" class=\"data row5 col2\" >Thippesh m</td>\n      <td id=\"T_3860f_row5_col3\" class=\"data row5 col3\" >DKD - 2023 - Annual Membership  (Register with PCMC Runners 2023 T-shirt)|PCMC Runners Patch</td>\n      <td id=\"T_3860f_row5_col4\" class=\"data row5 col4\" >1250.00</td>\n      <td id=\"T_3860f_row5_col5\" class=\"data row5 col5\" >NA</td>\n      <td id=\"T_3860f_row5_col6\" class=\"data row5 col6\" >NA</td>\n      <td id=\"T_3860f_row5_col7\" class=\"data row5 col7\" >641241671777594264</td>\n      <td id=\"T_3860f_row5_col8\" class=\"data row5 col8\" >1200.000000</td>\n      <td id=\"T_3860f_row5_col9\" class=\"data row5 col9\" >50.000000</td>\n      <td id=\"T_3860f_row5_col10\" class=\"data row5 col10\" >PCMC Runners Patch</td>\n      <td id=\"T_3860f_row5_col11\" class=\"data row5 col11\" >DKD - 2023 - Annual Membership  (Register with PCMC Runners 2023 T-shirt)</td>\n      <td id=\"T_3860f_row5_col12\" class=\"data row5 col12\" >dr.tippu007@gmail.com</td>\n      <td id=\"T_3860f_row5_col13\" class=\"data row5 col13\" >INR</td>\n      <td id=\"T_3860f_row5_col14\" class=\"data row5 col14\" >0.000000</td>\n      <td id=\"T_3860f_row5_col15\" class=\"data row5 col15\" >0.000000</td>\n      <td id=\"T_3860f_row5_col16\" class=\"data row5 col16\" >nan</td>\n      <td id=\"T_3860f_row5_col17\" class=\"data row5 col17\" >nan</td>\n      <td id=\"T_3860f_row5_col18\" class=\"data row5 col18\" >nan</td>\n      <td id=\"T_3860f_row5_col19\" class=\"data row5 col19\" >nan</td>\n      <td id=\"T_3860f_row5_col20\" class=\"data row5 col20\" >nan</td>\n      <td id=\"T_3860f_row5_col21\" class=\"data row5 col21\" >nan</td>\n      <td id=\"T_3860f_row5_col22\" class=\"data row5 col22\" >nan</td>\n      <td id=\"T_3860f_row5_col23\" class=\"data row5 col23\" >nan</td>\n      <td id=\"T_3860f_row5_col24\" class=\"data row5 col24\" >+918237736738</td>\n      <td id=\"T_3860f_row5_col25\" class=\"data row5 col25\" >Male</td>\n      <td id=\"T_3860f_row5_col26\" class=\"data row5 col26\" >10-05-1987</td>\n      <td id=\"T_3860f_row5_col27\" class=\"data row5 col27\" >With Sleeves</td>\n      <td id=\"T_3860f_row5_col28\" class=\"data row5 col28\" >M - Medium</td>\n      <td id=\"T_3860f_row5_col29\" class=\"data row5 col29\" >Savitri Bai Phule garden - Wakad</td>\n      <td id=\"T_3860f_row5_col30\" class=\"data row5 col30\" >THIPPESH</td>\n      <td id=\"T_3860f_row5_col31\" class=\"data row5 col31\" >Rashmi</td>\n      <td id=\"T_3860f_row5_col32\" class=\"data row5 col32\" >+919545954756</td>\n      <td id=\"T_3860f_row5_col33\" class=\"data row5 col33\" >411018</td>\n      <td id=\"T_3860f_row5_col34\" class=\"data row5 col34\" >nan</td>\n      <td id=\"T_3860f_row5_col35\" class=\"data row5 col35\" >Other</td>\n      <td id=\"T_3860f_row5_col36\" class=\"data row5 col36\" >nan</td>\n    </tr>\n    <tr>\n      <th id=\"T_3860f_level0_row6\" class=\"row_heading level0 row6\" >36</th>\n      <td id=\"T_3860f_row6_col0\" class=\"data row6 col0\" >9588932</td>\n      <td id=\"T_3860f_row6_col1\" class=\"data row6 col1\" >23-12-2022 12:11</td>\n      <td id=\"T_3860f_row6_col2\" class=\"data row6 col2\" >Manish Kumar</td>\n      <td id=\"T_3860f_row6_col3\" class=\"data row6 col3\" >DKD - 2023 - Annual Membership  (Register with PCMC Runners 2023 T-shirt)|No - Not Interested in Add ons now</td>\n      <td id=\"T_3860f_row6_col4\" class=\"data row6 col4\" >800.00</td>\n      <td id=\"T_3860f_row6_col5\" class=\"data row6 col5\" >NA</td>\n      <td id=\"T_3860f_row6_col6\" class=\"data row6 col6\" >pcmcrunners</td>\n      <td id=\"T_3860f_row6_col7\" class=\"data row6 col7\" >255001671777624061</td>\n      <td id=\"T_3860f_row6_col8\" class=\"data row6 col8\" >1200.000000</td>\n      <td id=\"T_3860f_row6_col9\" class=\"data row6 col9\" >0.000000</td>\n      <td id=\"T_3860f_row6_col10\" class=\"data row6 col10\" >No - Not Interested in Add ons now</td>\n      <td id=\"T_3860f_row6_col11\" class=\"data row6 col11\" >DKD - 2023 - Annual Membership  (Register with PCMC Runners 2023 T-shirt)</td>\n      <td id=\"T_3860f_row6_col12\" class=\"data row6 col12\" >manishchandra.jiit@gmail.com</td>\n      <td id=\"T_3860f_row6_col13\" class=\"data row6 col13\" >INR</td>\n      <td id=\"T_3860f_row6_col14\" class=\"data row6 col14\" >400.000000</td>\n      <td id=\"T_3860f_row6_col15\" class=\"data row6 col15\" >0.000000</td>\n      <td id=\"T_3860f_row6_col16\" class=\"data row6 col16\" >nan</td>\n      <td id=\"T_3860f_row6_col17\" class=\"data row6 col17\" >nan</td>\n      <td id=\"T_3860f_row6_col18\" class=\"data row6 col18\" >nan</td>\n      <td id=\"T_3860f_row6_col19\" class=\"data row6 col19\" >nan</td>\n      <td id=\"T_3860f_row6_col20\" class=\"data row6 col20\" >nan</td>\n      <td id=\"T_3860f_row6_col21\" class=\"data row6 col21\" >nan</td>\n      <td id=\"T_3860f_row6_col22\" class=\"data row6 col22\" >nan</td>\n      <td id=\"T_3860f_row6_col23\" class=\"data row6 col23\" >nan</td>\n      <td id=\"T_3860f_row6_col24\" class=\"data row6 col24\" >+917709777816</td>\n      <td id=\"T_3860f_row6_col25\" class=\"data row6 col25\" >Male</td>\n      <td id=\"T_3860f_row6_col26\" class=\"data row6 col26\" >24-09-1983</td>\n      <td id=\"T_3860f_row6_col27\" class=\"data row6 col27\" >With Sleeves</td>\n      <td id=\"T_3860f_row6_col28\" class=\"data row6 col28\" >M - Medium</td>\n      <td id=\"T_3860f_row6_col29\" class=\"data row6 col29\" >Savitri Bai Phule garden - Wakad</td>\n      <td id=\"T_3860f_row6_col30\" class=\"data row6 col30\" >MANISH</td>\n      <td id=\"T_3860f_row6_col31\" class=\"data row6 col31\" >Jitendra Kumar</td>\n      <td id=\"T_3860f_row6_col32\" class=\"data row6 col32\" >+919762419803</td>\n      <td id=\"T_3860f_row6_col33\" class=\"data row6 col33\" >412207</td>\n      <td id=\"T_3860f_row6_col34\" class=\"data row6 col34\" >nan</td>\n      <td id=\"T_3860f_row6_col35\" class=\"data row6 col35\" >WhatsApp</td>\n      <td id=\"T_3860f_row6_col36\" class=\"data row6 col36\" >nan</td>\n    </tr>\n    <tr>\n      <th id=\"T_3860f_level0_row7\" class=\"row_heading level0 row7\" >27</th>\n      <td id=\"T_3860f_row7_col0\" class=\"data row7 col0\" >9588951</td>\n      <td id=\"T_3860f_row7_col1\" class=\"data row7 col1\" >23-12-2022 12:13</td>\n      <td id=\"T_3860f_row7_col2\" class=\"data row7 col2\" >Pratima Mehta</td>\n      <td id=\"T_3860f_row7_col3\" class=\"data row7 col3\" >DKD - 2023 - Annual Membership  (Register with PCMC Runners 2023 T-shirt)|No - Not Interested in Add ons now</td>\n      <td id=\"T_3860f_row7_col4\" class=\"data row7 col4\" >800.00</td>\n      <td id=\"T_3860f_row7_col5\" class=\"data row7 col5\" >NA</td>\n      <td id=\"T_3860f_row7_col6\" class=\"data row7 col6\" >pcmcrunners</td>\n      <td id=\"T_3860f_row7_col7\" class=\"data row7 col7\" >256201671777744178</td>\n      <td id=\"T_3860f_row7_col8\" class=\"data row7 col8\" >1200.000000</td>\n      <td id=\"T_3860f_row7_col9\" class=\"data row7 col9\" >0.000000</td>\n      <td id=\"T_3860f_row7_col10\" class=\"data row7 col10\" >No - Not Interested in Add ons now</td>\n      <td id=\"T_3860f_row7_col11\" class=\"data row7 col11\" >DKD - 2023 - Annual Membership  (Register with PCMC Runners 2023 T-shirt)</td>\n      <td id=\"T_3860f_row7_col12\" class=\"data row7 col12\" >pratima.b.doshi@gmail.com</td>\n      <td id=\"T_3860f_row7_col13\" class=\"data row7 col13\" >INR</td>\n      <td id=\"T_3860f_row7_col14\" class=\"data row7 col14\" >400.000000</td>\n      <td id=\"T_3860f_row7_col15\" class=\"data row7 col15\" >0.000000</td>\n      <td id=\"T_3860f_row7_col16\" class=\"data row7 col16\" >nan</td>\n      <td id=\"T_3860f_row7_col17\" class=\"data row7 col17\" >nan</td>\n      <td id=\"T_3860f_row7_col18\" class=\"data row7 col18\" >nan</td>\n      <td id=\"T_3860f_row7_col19\" class=\"data row7 col19\" >nan</td>\n      <td id=\"T_3860f_row7_col20\" class=\"data row7 col20\" >nan</td>\n      <td id=\"T_3860f_row7_col21\" class=\"data row7 col21\" >nan</td>\n      <td id=\"T_3860f_row7_col22\" class=\"data row7 col22\" >nan</td>\n      <td id=\"T_3860f_row7_col23\" class=\"data row7 col23\" >nan</td>\n      <td id=\"T_3860f_row7_col24\" class=\"data row7 col24\" >+919890297581</td>\n      <td id=\"T_3860f_row7_col25\" class=\"data row7 col25\" >Female</td>\n      <td id=\"T_3860f_row7_col26\" class=\"data row7 col26\" >14-07-1986</td>\n      <td id=\"T_3860f_row7_col27\" class=\"data row7 col27\" >With Sleeves</td>\n      <td id=\"T_3860f_row7_col28\" class=\"data row7 col28\" >S-Small</td>\n      <td id=\"T_3860f_row7_col29\" class=\"data row7 col29\" >Pavaneshwar Tea stall Chinchwad</td>\n      <td id=\"T_3860f_row7_col30\" class=\"data row7 col30\" >Pratima</td>\n      <td id=\"T_3860f_row7_col31\" class=\"data row7 col31\" >Tejas Mehta</td>\n      <td id=\"T_3860f_row7_col32\" class=\"data row7 col32\" >+919881904145</td>\n      <td id=\"T_3860f_row7_col33\" class=\"data row7 col33\" >411033</td>\n      <td id=\"T_3860f_row7_col34\" class=\"data row7 col34\" >Sukhwani Sapphire</td>\n      <td id=\"T_3860f_row7_col35\" class=\"data row7 col35\" >WhatsApp</td>\n      <td id=\"T_3860f_row7_col36\" class=\"data row7 col36\" >nan</td>\n    </tr>\n    <tr>\n      <th id=\"T_3860f_level0_row8\" class=\"row_heading level0 row8\" >71</th>\n      <td id=\"T_3860f_row8_col0\" class=\"data row8 col0\" >9588971</td>\n      <td id=\"T_3860f_row8_col1\" class=\"data row8 col1\" >23-12-2022 12:15</td>\n      <td id=\"T_3860f_row8_col2\" class=\"data row8 col2\" >Sonal Waman</td>\n      <td id=\"T_3860f_row8_col3\" class=\"data row8 col3\" >DKD - 2023 - Annual Membership  (Register with PCMC Runners 2023 T-shirt)|No - Not Interested in Add ons now</td>\n      <td id=\"T_3860f_row8_col4\" class=\"data row8 col4\" >800.00</td>\n      <td id=\"T_3860f_row8_col5\" class=\"data row8 col5\" >NA</td>\n      <td id=\"T_3860f_row8_col6\" class=\"data row8 col6\" >pcmcrunners</td>\n      <td id=\"T_3860f_row8_col7\" class=\"data row8 col7\" >266661671777895794</td>\n      <td id=\"T_3860f_row8_col8\" class=\"data row8 col8\" >1200.000000</td>\n      <td id=\"T_3860f_row8_col9\" class=\"data row8 col9\" >0.000000</td>\n      <td id=\"T_3860f_row8_col10\" class=\"data row8 col10\" >No - Not Interested in Add ons now</td>\n      <td id=\"T_3860f_row8_col11\" class=\"data row8 col11\" >DKD - 2023 - Annual Membership  (Register with PCMC Runners 2023 T-shirt)</td>\n      <td id=\"T_3860f_row8_col12\" class=\"data row8 col12\" >sonalwaman@gmail.com</td>\n      <td id=\"T_3860f_row8_col13\" class=\"data row8 col13\" >INR</td>\n      <td id=\"T_3860f_row8_col14\" class=\"data row8 col14\" >400.000000</td>\n      <td id=\"T_3860f_row8_col15\" class=\"data row8 col15\" >0.000000</td>\n      <td id=\"T_3860f_row8_col16\" class=\"data row8 col16\" >nan</td>\n      <td id=\"T_3860f_row8_col17\" class=\"data row8 col17\" >nan</td>\n      <td id=\"T_3860f_row8_col18\" class=\"data row8 col18\" >nan</td>\n      <td id=\"T_3860f_row8_col19\" class=\"data row8 col19\" >nan</td>\n      <td id=\"T_3860f_row8_col20\" class=\"data row8 col20\" >nan</td>\n      <td id=\"T_3860f_row8_col21\" class=\"data row8 col21\" >nan</td>\n      <td id=\"T_3860f_row8_col22\" class=\"data row8 col22\" >nan</td>\n      <td id=\"T_3860f_row8_col23\" class=\"data row8 col23\" >nan</td>\n      <td id=\"T_3860f_row8_col24\" class=\"data row8 col24\" >+919922437546</td>\n      <td id=\"T_3860f_row8_col25\" class=\"data row8 col25\" >Female</td>\n      <td id=\"T_3860f_row8_col26\" class=\"data row8 col26\" >17-10-1986</td>\n      <td id=\"T_3860f_row8_col27\" class=\"data row8 col27\" >With Sleeves</td>\n      <td id=\"T_3860f_row8_col28\" class=\"data row8 col28\" >XL - Extra large</td>\n      <td id=\"T_3860f_row8_col29\" class=\"data row8 col29\" >Ganesh Talav - Nigdi</td>\n      <td id=\"T_3860f_row8_col30\" class=\"data row8 col30\" >SONAL</td>\n      <td id=\"T_3860f_row8_col31\" class=\"data row8 col31\" >Prashant</td>\n      <td id=\"T_3860f_row8_col32\" class=\"data row8 col32\" >+919923447033</td>\n      <td id=\"T_3860f_row8_col33\" class=\"data row8 col33\" >411044</td>\n      <td id=\"T_3860f_row8_col34\" class=\"data row8 col34\" >nan</td>\n      <td id=\"T_3860f_row8_col35\" class=\"data row8 col35\" >Via friend</td>\n      <td id=\"T_3860f_row8_col36\" class=\"data row8 col36\" >nan</td>\n    </tr>\n    <tr>\n      <th id=\"T_3860f_level0_row9\" class=\"row_heading level0 row9\" >62</th>\n      <td id=\"T_3860f_row9_col0\" class=\"data row9 col0\" >9588985</td>\n      <td id=\"T_3860f_row9_col1\" class=\"data row9 col1\" >23-12-2022 12:18</td>\n      <td id=\"T_3860f_row9_col2\" class=\"data row9 col2\" >Shrikant Vatsa</td>\n      <td id=\"T_3860f_row9_col3\" class=\"data row9 col3\" >DKD - 2023 - Annual Membership  (Register without T-shirt)|No - Not Interested in Add ons now</td>\n      <td id=\"T_3860f_row9_col4\" class=\"data row9 col4\" >900.00</td>\n      <td id=\"T_3860f_row9_col5\" class=\"data row9 col5\" >NA</td>\n      <td id=\"T_3860f_row9_col6\" class=\"data row9 col6\" >NA</td>\n      <td id=\"T_3860f_row9_col7\" class=\"data row9 col7\" >276721671777999004</td>\n      <td id=\"T_3860f_row9_col8\" class=\"data row9 col8\" >900.000000</td>\n      <td id=\"T_3860f_row9_col9\" class=\"data row9 col9\" >0.000000</td>\n      <td id=\"T_3860f_row9_col10\" class=\"data row9 col10\" >No - Not Interested in Add ons now</td>\n      <td id=\"T_3860f_row9_col11\" class=\"data row9 col11\" >DKD - 2023 - Annual Membership  (Register without T-shirt)</td>\n      <td id=\"T_3860f_row9_col12\" class=\"data row9 col12\" >vatsashrikant@gmail.com</td>\n      <td id=\"T_3860f_row9_col13\" class=\"data row9 col13\" >INR</td>\n      <td id=\"T_3860f_row9_col14\" class=\"data row9 col14\" >0.000000</td>\n      <td id=\"T_3860f_row9_col15\" class=\"data row9 col15\" >0.000000</td>\n      <td id=\"T_3860f_row9_col16\" class=\"data row9 col16\" >nan</td>\n      <td id=\"T_3860f_row9_col17\" class=\"data row9 col17\" >nan</td>\n      <td id=\"T_3860f_row9_col18\" class=\"data row9 col18\" >nan</td>\n      <td id=\"T_3860f_row9_col19\" class=\"data row9 col19\" >nan</td>\n      <td id=\"T_3860f_row9_col20\" class=\"data row9 col20\" >nan</td>\n      <td id=\"T_3860f_row9_col21\" class=\"data row9 col21\" >nan</td>\n      <td id=\"T_3860f_row9_col22\" class=\"data row9 col22\" >nan</td>\n      <td id=\"T_3860f_row9_col23\" class=\"data row9 col23\" >nan</td>\n      <td id=\"T_3860f_row9_col24\" class=\"data row9 col24\" >+919975293004</td>\n      <td id=\"T_3860f_row9_col25\" class=\"data row9 col25\" >Male</td>\n      <td id=\"T_3860f_row9_col26\" class=\"data row9 col26\" >16-04-1987</td>\n      <td id=\"T_3860f_row9_col27\" class=\"data row9 col27\" >nan</td>\n      <td id=\"T_3860f_row9_col28\" class=\"data row9 col28\" >nan</td>\n      <td id=\"T_3860f_row9_col29\" class=\"data row9 col29\" >Ganesh Talav - Nigdi</td>\n      <td id=\"T_3860f_row9_col30\" class=\"data row9 col30\" >nan</td>\n      <td id=\"T_3860f_row9_col31\" class=\"data row9 col31\" >Anuschree Vatsa</td>\n      <td id=\"T_3860f_row9_col32\" class=\"data row9 col32\" >+919975293435</td>\n      <td id=\"T_3860f_row9_col33\" class=\"data row9 col33\" >411044</td>\n      <td id=\"T_3860f_row9_col34\" class=\"data row9 col34\" >Abhiman Park Hsg. Soc., Nigdi</td>\n      <td id=\"T_3860f_row9_col35\" class=\"data row9 col35\" >Via friend</td>\n      <td id=\"T_3860f_row9_col36\" class=\"data row9 col36\" >nan</td>\n    </tr>\n    <tr>\n      <th id=\"T_3860f_level0_row10\" class=\"row_heading level0 row10\" >223</th>\n      <td id=\"T_3860f_row10_col0\" class=\"data row10 col0\" >9589008</td>\n      <td id=\"T_3860f_row10_col1\" class=\"data row10 col1\" >23-12-2022 12:23</td>\n      <td id=\"T_3860f_row10_col2\" class=\"data row10 col2\" >Chhaya Borse</td>\n      <td id=\"T_3860f_row10_col3\" class=\"data row10 col3\" >DKD - 2023 - Annual Membership  (Register without T-shirt)|No - Not Interested in Add ons now</td>\n      <td id=\"T_3860f_row10_col4\" class=\"data row10 col4\" >500.00</td>\n      <td id=\"T_3860f_row10_col5\" class=\"data row10 col5\" >NA</td>\n      <td id=\"T_3860f_row10_col6\" class=\"data row10 col6\" >pcmcrunners</td>\n      <td id=\"T_3860f_row10_col7\" class=\"data row10 col7\" >102741671778304577</td>\n      <td id=\"T_3860f_row10_col8\" class=\"data row10 col8\" >900.000000</td>\n      <td id=\"T_3860f_row10_col9\" class=\"data row10 col9\" >0.000000</td>\n      <td id=\"T_3860f_row10_col10\" class=\"data row10 col10\" >No - Not Interested in Add ons now</td>\n      <td id=\"T_3860f_row10_col11\" class=\"data row10 col11\" >DKD - 2023 - Annual Membership  (Register without T-shirt)</td>\n      <td id=\"T_3860f_row10_col12\" class=\"data row10 col12\" >chhayaborse17@gmail.com</td>\n      <td id=\"T_3860f_row10_col13\" class=\"data row10 col13\" >INR</td>\n      <td id=\"T_3860f_row10_col14\" class=\"data row10 col14\" >400.000000</td>\n      <td id=\"T_3860f_row10_col15\" class=\"data row10 col15\" >0.000000</td>\n      <td id=\"T_3860f_row10_col16\" class=\"data row10 col16\" >nan</td>\n      <td id=\"T_3860f_row10_col17\" class=\"data row10 col17\" >nan</td>\n      <td id=\"T_3860f_row10_col18\" class=\"data row10 col18\" >nan</td>\n      <td id=\"T_3860f_row10_col19\" class=\"data row10 col19\" >nan</td>\n      <td id=\"T_3860f_row10_col20\" class=\"data row10 col20\" >nan</td>\n      <td id=\"T_3860f_row10_col21\" class=\"data row10 col21\" >nan</td>\n      <td id=\"T_3860f_row10_col22\" class=\"data row10 col22\" >nan</td>\n      <td id=\"T_3860f_row10_col23\" class=\"data row10 col23\" >nan</td>\n      <td id=\"T_3860f_row10_col24\" class=\"data row10 col24\" >+919075522480</td>\n      <td id=\"T_3860f_row10_col25\" class=\"data row10 col25\" >Female</td>\n      <td id=\"T_3860f_row10_col26\" class=\"data row10 col26\" >17-08-1980</td>\n      <td id=\"T_3860f_row10_col27\" class=\"data row10 col27\" >nan</td>\n      <td id=\"T_3860f_row10_col28\" class=\"data row10 col28\" >nan</td>\n      <td id=\"T_3860f_row10_col29\" class=\"data row10 col29\" >District Circle - Spine Road</td>\n      <td id=\"T_3860f_row10_col30\" class=\"data row10 col30\" >nan</td>\n      <td id=\"T_3860f_row10_col31\" class=\"data row10 col31\" >Gauri  Borse</td>\n      <td id=\"T_3860f_row10_col32\" class=\"data row10 col32\" >+919860918918</td>\n      <td id=\"T_3860f_row10_col33\" class=\"data row10 col33\" >411039</td>\n      <td id=\"T_3860f_row10_col34\" class=\"data row10 col34\" >nan</td>\n      <td id=\"T_3860f_row10_col35\" class=\"data row10 col35\" >Via friend</td>\n      <td id=\"T_3860f_row10_col36\" class=\"data row10 col36\" >nan</td>\n    </tr>\n    <tr>\n      <th id=\"T_3860f_level0_row11\" class=\"row_heading level0 row11\" >252</th>\n      <td id=\"T_3860f_row11_col0\" class=\"data row11 col0\" >9589029</td>\n      <td id=\"T_3860f_row11_col1\" class=\"data row11 col1\" >23-12-2022 12:24</td>\n      <td id=\"T_3860f_row11_col2\" class=\"data row11 col2\" >Vidya Dash</td>\n      <td id=\"T_3860f_row11_col3\" class=\"data row11 col3\" >DKD - 2023 - Annual Membership  (Register with PCMC Runners 2023 T-shirt)|No - Not Interested in Add ons now</td>\n      <td id=\"T_3860f_row11_col4\" class=\"data row11 col4\" >800.00</td>\n      <td id=\"T_3860f_row11_col5\" class=\"data row11 col5\" >NA</td>\n      <td id=\"T_3860f_row11_col6\" class=\"data row11 col6\" >pcmcrunners</td>\n      <td id=\"T_3860f_row11_col7\" class=\"data row11 col7\" >036471671778415160</td>\n      <td id=\"T_3860f_row11_col8\" class=\"data row11 col8\" >1200.000000</td>\n      <td id=\"T_3860f_row11_col9\" class=\"data row11 col9\" >0.000000</td>\n      <td id=\"T_3860f_row11_col10\" class=\"data row11 col10\" >No - Not Interested in Add ons now</td>\n      <td id=\"T_3860f_row11_col11\" class=\"data row11 col11\" >DKD - 2023 - Annual Membership  (Register with PCMC Runners 2023 T-shirt)</td>\n      <td id=\"T_3860f_row11_col12\" class=\"data row11 col12\" >vidya.october7@gmail.com</td>\n      <td id=\"T_3860f_row11_col13\" class=\"data row11 col13\" >INR</td>\n      <td id=\"T_3860f_row11_col14\" class=\"data row11 col14\" >400.000000</td>\n      <td id=\"T_3860f_row11_col15\" class=\"data row11 col15\" >0.000000</td>\n      <td id=\"T_3860f_row11_col16\" class=\"data row11 col16\" >nan</td>\n      <td id=\"T_3860f_row11_col17\" class=\"data row11 col17\" >nan</td>\n      <td id=\"T_3860f_row11_col18\" class=\"data row11 col18\" >nan</td>\n      <td id=\"T_3860f_row11_col19\" class=\"data row11 col19\" >nan</td>\n      <td id=\"T_3860f_row11_col20\" class=\"data row11 col20\" >nan</td>\n      <td id=\"T_3860f_row11_col21\" class=\"data row11 col21\" >nan</td>\n      <td id=\"T_3860f_row11_col22\" class=\"data row11 col22\" >nan</td>\n      <td id=\"T_3860f_row11_col23\" class=\"data row11 col23\" >nan</td>\n      <td id=\"T_3860f_row11_col24\" class=\"data row11 col24\" >+919145779208</td>\n      <td id=\"T_3860f_row11_col25\" class=\"data row11 col25\" >Female</td>\n      <td id=\"T_3860f_row11_col26\" class=\"data row11 col26\" >09-10-1981</td>\n      <td id=\"T_3860f_row11_col27\" class=\"data row11 col27\" >With Sleeves</td>\n      <td id=\"T_3860f_row11_col28\" class=\"data row11 col28\" >L - Large</td>\n      <td id=\"T_3860f_row11_col29\" class=\"data row11 col29\" >District Circle - Spine Road</td>\n      <td id=\"T_3860f_row11_col30\" class=\"data row11 col30\" >Vidya</td>\n      <td id=\"T_3860f_row11_col31\" class=\"data row11 col31\" >Nisha Moily</td>\n      <td id=\"T_3860f_row11_col32\" class=\"data row11 col32\" >+918850334293</td>\n      <td id=\"T_3860f_row11_col33\" class=\"data row11 col33\" >412105</td>\n      <td id=\"T_3860f_row11_col34\" class=\"data row11 col34\" >Landge Nestworth</td>\n      <td id=\"T_3860f_row11_col35\" class=\"data row11 col35\" >Other</td>\n      <td id=\"T_3860f_row11_col36\" class=\"data row11 col36\" >nan</td>\n    </tr>\n    <tr>\n      <th id=\"T_3860f_level0_row12\" class=\"row_heading level0 row12\" >243</th>\n      <td id=\"T_3860f_row12_col0\" class=\"data row12 col0\" >9589041</td>\n      <td id=\"T_3860f_row12_col1\" class=\"data row12 col1\" >23-12-2022 12:27</td>\n      <td id=\"T_3860f_row12_col2\" class=\"data row12 col2\" >Ganesh Suresh Supekar</td>\n      <td id=\"T_3860f_row12_col3\" class=\"data row12 col3\" >DKD - 2023 - Annual Membership  (Register with PCMC Runners 2023 T-shirt)|No - Not Interested in Add ons now</td>\n      <td id=\"T_3860f_row12_col4\" class=\"data row12 col4\" >800.00</td>\n      <td id=\"T_3860f_row12_col5\" class=\"data row12 col5\" >NA</td>\n      <td id=\"T_3860f_row12_col6\" class=\"data row12 col6\" >pcmcrunners</td>\n      <td id=\"T_3860f_row12_col7\" class=\"data row12 col7\" >013311671778561273</td>\n      <td id=\"T_3860f_row12_col8\" class=\"data row12 col8\" >1200.000000</td>\n      <td id=\"T_3860f_row12_col9\" class=\"data row12 col9\" >0.000000</td>\n      <td id=\"T_3860f_row12_col10\" class=\"data row12 col10\" >No - Not Interested in Add ons now</td>\n      <td id=\"T_3860f_row12_col11\" class=\"data row12 col11\" >DKD - 2023 - Annual Membership  (Register with PCMC Runners 2023 T-shirt)</td>\n      <td id=\"T_3860f_row12_col12\" class=\"data row12 col12\" >ganeshmesa@gmail.com</td>\n      <td id=\"T_3860f_row12_col13\" class=\"data row12 col13\" >INR</td>\n      <td id=\"T_3860f_row12_col14\" class=\"data row12 col14\" >400.000000</td>\n      <td id=\"T_3860f_row12_col15\" class=\"data row12 col15\" >0.000000</td>\n      <td id=\"T_3860f_row12_col16\" class=\"data row12 col16\" >nan</td>\n      <td id=\"T_3860f_row12_col17\" class=\"data row12 col17\" >nan</td>\n      <td id=\"T_3860f_row12_col18\" class=\"data row12 col18\" >nan</td>\n      <td id=\"T_3860f_row12_col19\" class=\"data row12 col19\" >nan</td>\n      <td id=\"T_3860f_row12_col20\" class=\"data row12 col20\" >nan</td>\n      <td id=\"T_3860f_row12_col21\" class=\"data row12 col21\" >nan</td>\n      <td id=\"T_3860f_row12_col22\" class=\"data row12 col22\" >nan</td>\n      <td id=\"T_3860f_row12_col23\" class=\"data row12 col23\" >nan</td>\n      <td id=\"T_3860f_row12_col24\" class=\"data row12 col24\" >+917720090009</td>\n      <td id=\"T_3860f_row12_col25\" class=\"data row12 col25\" >Male</td>\n      <td id=\"T_3860f_row12_col26\" class=\"data row12 col26\" >25-08-1987</td>\n      <td id=\"T_3860f_row12_col27\" class=\"data row12 col27\" >With Sleeves</td>\n      <td id=\"T_3860f_row12_col28\" class=\"data row12 col28\" >L - Large</td>\n      <td id=\"T_3860f_row12_col29\" class=\"data row12 col29\" >District Circle - Spine Road</td>\n      <td id=\"T_3860f_row12_col30\" class=\"data row12 col30\" >Ganesh</td>\n      <td id=\"T_3860f_row12_col31\" class=\"data row12 col31\" >Vinita Ganesh Supekar</td>\n      <td id=\"T_3860f_row12_col32\" class=\"data row12 col32\" >+917447490402</td>\n      <td id=\"T_3860f_row12_col33\" class=\"data row12 col33\" >412105</td>\n      <td id=\"T_3860f_row12_col34\" class=\"data row12 col34\" >The Address Fla No D301, Gat No 519-520, Borate Park , Moshi, Pune-412105</td>\n      <td id=\"T_3860f_row12_col35\" class=\"data row12 col35\" >Mail from organiser</td>\n      <td id=\"T_3860f_row12_col36\" class=\"data row12 col36\" >nan</td>\n    </tr>\n    <tr>\n      <th id=\"T_3860f_level0_row13\" class=\"row_heading level0 row13\" >263</th>\n      <td id=\"T_3860f_row13_col0\" class=\"data row13 col0\" >9589078</td>\n      <td id=\"T_3860f_row13_col1\" class=\"data row13 col1\" >23-12-2022 12:30</td>\n      <td id=\"T_3860f_row13_col2\" class=\"data row13 col2\" >Nilesh Kurmi</td>\n      <td id=\"T_3860f_row13_col3\" class=\"data row13 col3\" >DKD - 2023 - Annual Membership  (Register with PCMC Runners 2023 T-shirt)|No - Not Interested in Add ons now</td>\n      <td id=\"T_3860f_row13_col4\" class=\"data row13 col4\" >800.00</td>\n      <td id=\"T_3860f_row13_col5\" class=\"data row13 col5\" >NA</td>\n      <td id=\"T_3860f_row13_col6\" class=\"data row13 col6\" >pcmcrunners</td>\n      <td id=\"T_3860f_row13_col7\" class=\"data row13 col7\" >107761671778758829</td>\n      <td id=\"T_3860f_row13_col8\" class=\"data row13 col8\" >1200.000000</td>\n      <td id=\"T_3860f_row13_col9\" class=\"data row13 col9\" >0.000000</td>\n      <td id=\"T_3860f_row13_col10\" class=\"data row13 col10\" >No - Not Interested in Add ons now</td>\n      <td id=\"T_3860f_row13_col11\" class=\"data row13 col11\" >DKD - 2023 - Annual Membership  (Register with PCMC Runners 2023 T-shirt)</td>\n      <td id=\"T_3860f_row13_col12\" class=\"data row13 col12\" >nkurmi143@gmail.com</td>\n      <td id=\"T_3860f_row13_col13\" class=\"data row13 col13\" >INR</td>\n      <td id=\"T_3860f_row13_col14\" class=\"data row13 col14\" >400.000000</td>\n      <td id=\"T_3860f_row13_col15\" class=\"data row13 col15\" >0.000000</td>\n      <td id=\"T_3860f_row13_col16\" class=\"data row13 col16\" >nan</td>\n      <td id=\"T_3860f_row13_col17\" class=\"data row13 col17\" >nan</td>\n      <td id=\"T_3860f_row13_col18\" class=\"data row13 col18\" >nan</td>\n      <td id=\"T_3860f_row13_col19\" class=\"data row13 col19\" >nan</td>\n      <td id=\"T_3860f_row13_col20\" class=\"data row13 col20\" >nan</td>\n      <td id=\"T_3860f_row13_col21\" class=\"data row13 col21\" >nan</td>\n      <td id=\"T_3860f_row13_col22\" class=\"data row13 col22\" >nan</td>\n      <td id=\"T_3860f_row13_col23\" class=\"data row13 col23\" >nan</td>\n      <td id=\"T_3860f_row13_col24\" class=\"data row13 col24\" >+919552555180</td>\n      <td id=\"T_3860f_row13_col25\" class=\"data row13 col25\" >Male</td>\n      <td id=\"T_3860f_row13_col26\" class=\"data row13 col26\" >11-12-1984</td>\n      <td id=\"T_3860f_row13_col27\" class=\"data row13 col27\" >With Sleeves</td>\n      <td id=\"T_3860f_row13_col28\" class=\"data row13 col28\" >XXL - Extra-Extra-Large</td>\n      <td id=\"T_3860f_row13_col29\" class=\"data row13 col29\" >Savitri Bai Phule garden - Wakad</td>\n      <td id=\"T_3860f_row13_col30\" class=\"data row13 col30\" >Nilesh Kurmi</td>\n      <td id=\"T_3860f_row13_col31\" class=\"data row13 col31\" >Ayushee Kurmi</td>\n      <td id=\"T_3860f_row13_col32\" class=\"data row13 col32\" >+919552551940</td>\n      <td id=\"T_3860f_row13_col33\" class=\"data row13 col33\" >411061</td>\n      <td id=\"T_3860f_row13_col34\" class=\"data row13 col34\" >Kalpataru Estate</td>\n      <td id=\"T_3860f_row13_col35\" class=\"data row13 col35\" >WhatsApp</td>\n      <td id=\"T_3860f_row13_col36\" class=\"data row13 col36\" >nan</td>\n    </tr>\n    <tr>\n      <th id=\"T_3860f_level0_row14\" class=\"row_heading level0 row14\" >282</th>\n      <td id=\"T_3860f_row14_col0\" class=\"data row14 col0\" >9589113</td>\n      <td id=\"T_3860f_row14_col1\" class=\"data row14 col1\" >23-12-2022 12:35</td>\n      <td id=\"T_3860f_row14_col2\" class=\"data row14 col2\" >Pradip Bhamare</td>\n      <td id=\"T_3860f_row14_col3\" class=\"data row14 col3\" >DKD - 2023 - Annual Membership  (Register with PCMC Runners 2023 T-shirt)|No - Not Interested in Add ons now</td>\n      <td id=\"T_3860f_row14_col4\" class=\"data row14 col4\" >800.00</td>\n      <td id=\"T_3860f_row14_col5\" class=\"data row14 col5\" >NA</td>\n      <td id=\"T_3860f_row14_col6\" class=\"data row14 col6\" >pcmcrunners</td>\n      <td id=\"T_3860f_row14_col7\" class=\"data row14 col7\" >054501671779064561</td>\n      <td id=\"T_3860f_row14_col8\" class=\"data row14 col8\" >1200.000000</td>\n      <td id=\"T_3860f_row14_col9\" class=\"data row14 col9\" >0.000000</td>\n      <td id=\"T_3860f_row14_col10\" class=\"data row14 col10\" >No - Not Interested in Add ons now</td>\n      <td id=\"T_3860f_row14_col11\" class=\"data row14 col11\" >DKD - 2023 - Annual Membership  (Register with PCMC Runners 2023 T-shirt)</td>\n      <td id=\"T_3860f_row14_col12\" class=\"data row14 col12\" >pradipbhamare@gmail.com</td>\n      <td id=\"T_3860f_row14_col13\" class=\"data row14 col13\" >INR</td>\n      <td id=\"T_3860f_row14_col14\" class=\"data row14 col14\" >400.000000</td>\n      <td id=\"T_3860f_row14_col15\" class=\"data row14 col15\" >0.000000</td>\n      <td id=\"T_3860f_row14_col16\" class=\"data row14 col16\" >nan</td>\n      <td id=\"T_3860f_row14_col17\" class=\"data row14 col17\" >nan</td>\n      <td id=\"T_3860f_row14_col18\" class=\"data row14 col18\" >nan</td>\n      <td id=\"T_3860f_row14_col19\" class=\"data row14 col19\" >nan</td>\n      <td id=\"T_3860f_row14_col20\" class=\"data row14 col20\" >nan</td>\n      <td id=\"T_3860f_row14_col21\" class=\"data row14 col21\" >nan</td>\n      <td id=\"T_3860f_row14_col22\" class=\"data row14 col22\" >nan</td>\n      <td id=\"T_3860f_row14_col23\" class=\"data row14 col23\" >nan</td>\n      <td id=\"T_3860f_row14_col24\" class=\"data row14 col24\" >+919890027826</td>\n      <td id=\"T_3860f_row14_col25\" class=\"data row14 col25\" >Male</td>\n      <td id=\"T_3860f_row14_col26\" class=\"data row14 col26\" >15-07-1980</td>\n      <td id=\"T_3860f_row14_col27\" class=\"data row14 col27\" >With Sleeves</td>\n      <td id=\"T_3860f_row14_col28\" class=\"data row14 col28\" >M - Medium</td>\n      <td id=\"T_3860f_row14_col29\" class=\"data row14 col29\" >Pavaneshwar Tea stall Chinchwad</td>\n      <td id=\"T_3860f_row14_col30\" class=\"data row14 col30\" >Pradip</td>\n      <td id=\"T_3860f_row14_col31\" class=\"data row14 col31\" >samita</td>\n      <td id=\"T_3860f_row14_col32\" class=\"data row14 col32\" >+919890076557</td>\n      <td id=\"T_3860f_row14_col33\" class=\"data row14 col33\" >411033</td>\n      <td id=\"T_3860f_row14_col34\" class=\"data row14 col34\" >Chaitanya Vihar</td>\n      <td id=\"T_3860f_row14_col35\" class=\"data row14 col35\" >Via friend</td>\n      <td id=\"T_3860f_row14_col36\" class=\"data row14 col36\" >nan</td>\n    </tr>\n  </tbody>\n</table>\n",
                  "text/plain": "<pandas.io.formats.style.Styler at 0x7b3e7fe8a4d0>"
                },
                "metadata": {},
                "output_type": "display_data"
              }
            ]
          }
        },
        "e8ef14df357f4940a4bc4cc2df3cbacf": {
          "model_module": "@jupyter-widgets/controls",
          "model_module_version": "1.5.0",
          "model_name": "DescriptionStyleModel",
          "state": {
            "_model_module": "@jupyter-widgets/controls",
            "_model_module_version": "1.5.0",
            "_model_name": "DescriptionStyleModel",
            "_view_count": null,
            "_view_module": "@jupyter-widgets/base",
            "_view_module_version": "1.2.0",
            "_view_name": "StyleView",
            "description_width": ""
          }
        },
        "f2a656c64eee4eeea2b35a794076c28d": {
          "model_module": "@jupyter-widgets/controls",
          "model_module_version": "1.5.0",
          "model_name": "DropdownModel",
          "state": {
            "_dom_classes": [],
            "_model_module": "@jupyter-widgets/controls",
            "_model_module_version": "1.5.0",
            "_model_name": "DropdownModel",
            "_options_labels": [
              "registrationId",
              "registrationTimestamp",
              "userName",
              "allTicketName",
              "totalTicketAmount",
              "discountCode2",
              "discountCode1",
              "uniqueOrderId",
              "ticketPrice1",
              "ticketPrice2",
              "ticketName2",
              "ticketName1",
              "userEmailId",
              "currency",
              "discountAmount1",
              "discountAmount2",
              "discountAmount",
              "ticketPrice",
              "ticketName",
              "discountCode",
              "discountCode3",
              "ticketPrice3",
              "ticketName3",
              "discountAmount3",
              "Contact Number",
              "Gender",
              "Date Of birth",
              "T Shirt option",
              "T-shirt size",
              "BIB , T Shirt Collection Location",
              "Name on the T Shirt( type Blank if you don't want to print anything)",
              "Emergency Contact Name",
              "Emergency Contact Number",
              "Pincode/Zipcode/Postcode",
              "Your Society",
              "How did you come to know about the event",
              "Choose your distance for JUNE-25 LSOM at district  circle spine road"
            ],
            "_view_count": null,
            "_view_module": "@jupyter-widgets/controls",
            "_view_module_version": "1.5.0",
            "_view_name": "DropdownView",
            "description": "sort",
            "description_tooltip": null,
            "disabled": false,
            "index": 0,
            "layout": "IPY_MODEL_178aedb0d19b4204865534e1fc8d3e84",
            "style": "IPY_MODEL_04b4abf3dcc0434db3ab617d703e5535"
          }
        }
      }
    }
  },
  "nbformat": 4,
  "nbformat_minor": 0
}
