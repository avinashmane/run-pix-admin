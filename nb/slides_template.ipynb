{
 "cells": [
  {
   "cell_type": "code",
   "execution_count": null,
   "metadata": {},
   "outputs": [],
   "source": [
    "%env SERVICE_ACCOUNT"
   ]
  },
  {
   "cell_type": "code",
   "execution_count": null,
   "metadata": {},
   "outputs": [],
   "source": [
    "import os.path\n",
    "\n",
    "from google.auth.transport.requests import Request\n",
    "from google.oauth2.credentials import Credentials\n",
    "from google_auth_oauthlib.flow import InstalledAppFlow\n",
    "from googleapiclient.discovery import build\n",
    "from googleapiclient.errors import HttpError\n",
    "\n",
    "# If modifying these scopes, delete the file token.json.\n",
    "SCOPES = [\"https://www.googleapis.com/auth/presentations.readonly\"]\n",
    "\n",
    "# The ID of a sample presentation.\n",
    "PRESENTATION_ID = \"1EAYk18WDjIG-zp_0vLm3CsfQh_i8eXc67Jo2O9C6Vuc\"\n",
    "\n",
    "def main():\n",
    "  \"\"\"Shows basic usage of the Slides API.\n",
    "  Prints the number of slides and elements in a sample presentation.\n",
    "  \"\"\"\n",
    "  creds = None\n",
    "  # The file token.json stores the user's access and refresh tokens, and is\n",
    "  # created automatically when the authorization flow completes for the first\n",
    "  # time.\n",
    "  if os.path.exists(\"token.json\"):\n",
    "    creds = Credentials.from_authorized_user_file(\"token.json\", SCOPES)\n",
    "  # If there are no (valid) credentials available, let the user log in.\n",
    "  if not creds or not creds.valid:\n",
    "    if creds and creds.expired and creds.refresh_token:\n",
    "      creds.refresh(Request())\n",
    "    else:\n",
    "      flow = InstalledAppFlow.from_client_secrets_file(\n",
    "          \"credentials.json\", SCOPES\n",
    "      )\n",
    "      creds = flow.run_local_server(port=0)\n",
    "    # Save the credentials for the next run\n",
    "    with open(\"token.json\", \"w\") as token:\n",
    "      token.write(creds.to_json())\n",
    "\n",
    "  try:\n",
    "    service = build(\"slides\", \"v1\", credentials=creds)\n",
    "\n",
    "    # Call the Slides API\n",
    "    presentation = (\n",
    "        service.presentations().get(presentationId=PRESENTATION_ID).execute()\n",
    "    )\n",
    "    slides = presentation.get(\"slides\")\n",
    "\n",
    "    print(f\"The presentation contains {len(slides)} slides:\")\n",
    "    for i, slide in enumerate(slides):\n",
    "      print(\n",
    "          f\"- Slide #{i + 1} contains\"\n",
    "          f\" {len(slide.get('pageElements'))} elements.\"\n",
    "      )\n",
    "  except HttpError as err:\n",
    "    print(err)\n",
    "\n",
    "\n",
    "if __name__ == \"__main__\":\n",
    "  main()"
   ]
  }
 ],
 "metadata": {
  "language_info": {
   "name": "python"
  }
 },
 "nbformat": 4,
 "nbformat_minor": 2
}
