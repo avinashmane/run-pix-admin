{
 "cells": [
  {
   "cell_type": "markdown",
   "metadata": {},
   "source": [
    "Folder for certificate and images https://drive.google.com/drive/u/2/folders/1vX0fL_c-LLaAeCNnJmUEzQxujDSZlN_V"
   ]
  },
  {
   "cell_type": "code",
   "execution_count": 1,
   "metadata": {},
   "outputs": [],
   "source": [
    "# from datetime import date\n",
    "# import pandas as pd\n",
    "import importlib\n",
    "\n",
    "import sys\n",
    "sys.path.insert(0,\"..\")\n"
   ]
  },
  {
   "cell_type": "code",
   "execution_count": 2,
   "metadata": {},
   "outputs": [
    {
     "ename": "ModuleNotFoundError",
     "evalue": "No module named 'misc'",
     "output_type": "error",
     "traceback": [
      "\u001b[0;31m---------------------------------------------------------------------------\u001b[0m",
      "\u001b[0;31mModuleNotFoundError\u001b[0m                       Traceback (most recent call last)",
      "Cell \u001b[0;32mIn[2], line 1\u001b[0m\n\u001b[0;32m----> 1\u001b[0m \u001b[38;5;28;01mimport\u001b[39;00m \u001b[38;5;21;01msrc\u001b[39;00m\u001b[38;5;21;01m.\u001b[39;00m\u001b[38;5;21;01mgslide_template\u001b[39;00m \u001b[38;5;28;01mas\u001b[39;00m \u001b[38;5;21;01mgslide_template\u001b[39;00m \n",
      "File \u001b[0;32m~/run-pix-admin/nb/../src/gslide_template.py:14\u001b[0m\n\u001b[1;32m     12\u001b[0m \u001b[38;5;28;01mfrom\u001b[39;00m \u001b[38;5;21;01mdatetime\u001b[39;00m \u001b[38;5;28;01mimport\u001b[39;00m date\n\u001b[1;32m     13\u001b[0m \u001b[38;5;28;01mfrom\u001b[39;00m \u001b[38;5;21;01mgoogleapiclient\u001b[39;00m\u001b[38;5;21;01m.\u001b[39;00m\u001b[38;5;21;01mdiscovery\u001b[39;00m \u001b[38;5;28;01mimport\u001b[39;00m build\n\u001b[0;32m---> 14\u001b[0m \u001b[38;5;28;01mfrom\u001b[39;00m \u001b[38;5;21;01mmisc\u001b[39;00m \u001b[38;5;28;01mimport\u001b[39;00m timeit\n\u001b[1;32m     15\u001b[0m \u001b[38;5;66;03m# from google_auth_oauthlib.flow import InstalledAppFlow\u001b[39;00m\n\u001b[1;32m     16\u001b[0m \u001b[38;5;28;01mfrom\u001b[39;00m \u001b[38;5;21;01mgoogle\u001b[39;00m\u001b[38;5;21;01m.\u001b[39;00m\u001b[38;5;21;01moauth2\u001b[39;00m \u001b[38;5;28;01mimport\u001b[39;00m service_account\n",
      "\u001b[0;31mModuleNotFoundError\u001b[0m: No module named 'misc'"
     ]
    }
   ],
   "source": [
    "import src.gslide_template as gslide_template \n"
   ]
  },
  {
   "cell_type": "code",
   "execution_count": 3,
   "metadata": {},
   "outputs": [],
   "source": [
    "def testDocument():\n",
    "    \"\"\"\n",
    "    test\n",
    "    \"\"\"\n",
    "    DrvDocument.getList()"
   ]
  },
  {
   "cell_type": "code",
   "execution_count": 73,
   "metadata": {},
   "outputs": [
    {
     "name": "stdout",
     "output_type": "stream",
     "text": [
      "Copying 1Ll9huU9ezInrmqGNP7HrG77io-Za5yYLQGd3YQLCo_0 to 1eTqSAHR1UnmOy4nV2xiCa22rqb86vo8XiXJWFdmnsSQ\n"
     ]
    }
   ],
   "source": [
    "import yaml\n",
    "templates=yaml.safe_load(\"\"\"\n",
    "run_dist: 1Ll9huU9ezInrmqGNP7HrG77io-Za5yYLQGd3YQLCo_0\n",
    "old_template: 15v70Kgys59jNZbHI_-NgxkQtN3NJLpLTQ2_Yv4xrKo0\n",
    "\"\"\")\n",
    "\n",
    "importlib.reload(gslide_template)\n",
    "gapi=gslide_template.gapi\n",
    "DrvDocument=gslide_template.DrvDocument\n",
    "Template =gslide_template.Template\n",
    "t=Template(templates['run_dist'])"
   ]
  },
  {
   "cell_type": "code",
   "execution_count": 74,
   "metadata": {},
   "outputs": [
    {
     "name": "stdout",
     "output_type": "stream",
     "text": [
      "['date', 'name', 'milestone', 'logo_img_url'] {\"date\": \"2024-02-01\", \"name\": \"Avinash Mane\", \"milestone\": \"100 days\", \"logo_img_url\": \"https://upload.wikimedia.org/wikipedia/commons/f/f5/Circle_file.487.png\"}\n",
      "{\"requests\": [{\"replaceAllText\": {\"containsText\": {\"text\": \"{date}\", \"matchCase\": true}, \"replaceText\": \"2024-02-01\"}}, {\"replaceAllText\": {\"containsText\": {\"text\": \"{name}\", \"matchCase\": true}, \"replaceText\": \"Avinash Mane\"}}, {\"replaceAllText\": {\"containsText\": {\"text\": \"{milestone}\", \"matchCase\": true}, \"replaceText\": \"100 days\"}}, {\"replaceAllShapesWithImage\": {\"containsText\": {\"text\": \"{logo_img_url}\", \"matchCase\": true}, \"imageUrl\": \"https://upload.wikimedia.org/wikipedia/commons/f/f5/Circle_file.487.png\", \"replaceMethod\": \"CENTER_INSIDE\"}}]}\n",
      "Replaced 4 text instances {'replaceAllText': 3, 'replaceAllShapesWithImage': 1} in 1eTqSAHR1UnmOy4nV2xiCa22rqb86vo8XiXJWFdmnsSQ\n",
      "{'presentationId': '1eTqSAHR1UnmOy4nV2xiCa22rqb86vo8XiXJWFdmnsSQ', 'replies': [{'replaceAllText': {'occurrencesChanged': 1}}, {'replaceAllText': {'occurrencesChanged': 1}}, {'replaceAllText': {'occurrencesChanged': 1}}, {'replaceAllShapesWithImage': {'occurrencesChanged': 1}}], 'writeControl': {'requiredRevisionId': 'Vf42F5tiHeDygA'}} None\n"
     ]
    }
   ],
   "source": [
    "cert=t.render({\"date\":'2024-02-01',\n",
    "                        'name':'Avinash Mane',\n",
    "                        'milestone':'100 days',\n",
    "                        'logo_img_url':'https://upload.wikimedia.org/wikipedia/commons/f/f5/Circle_file.487.png'})\n"
   ]
  },
  {
   "cell_type": "code",
   "execution_count": 78,
   "metadata": {},
   "outputs": [
    {
     "data": {
      "text/plain": [
       "{'width': 1600,\n",
       " 'height': 2262,\n",
       " 'contentUrl': 'https://lh7-us.googleusercontent.com/ykzUd8O4o6GPzKr-TFYmiyaxOIiP-ZCLAjh4j-6-w8UQXIAMc37vzt2iUn0SoRTj_eSFPrdxjwGRt7wsumgVTFrN5Kx3uI372cuNhIkym-KfFrisfDwxhXE3IfDr2PyAgRNfhjL65_gT6yVJFqJ7vtVPukY-6u0MgK9sVKQ1YJC-Ulic6HyCsBi2LVeBgTZowuzjGzdM5uCtifCXZxocTOjgG9Kh8Ln9jvv-xcCD7lvJ19P3mdlGQq4=s1600'}"
      ]
     },
     "execution_count": 78,
     "metadata": {},
     "output_type": "execute_result"
    }
   ],
   "source": [
    "cert.getThumbnail()"
   ]
  },
  {
   "cell_type": "code",
   "execution_count": 68,
   "metadata": {},
   "outputs": [],
   "source": [
    "x=gapi.drive_service.files().export(fileId='10GR_AFlqYFql7pru3c6zOUg7F0eBMk-qMbPo94Qzf84', \n",
    "                            mimeType='application/pdf').execute()"
   ]
  },
  {
   "cell_type": "code",
   "execution_count": 76,
   "metadata": {},
   "outputs": [],
   "source": [
    "with open(\"/mnt/c/temp/a.pdf\",\"wb\") as f:\n",
    "    f.write(cert.export())"
   ]
  },
  {
   "cell_type": "code",
   "execution_count": null,
   "metadata": {},
   "outputs": [],
   "source": [
    "# this get decent thumbnail\n",
    "gapi.slides_service.presentations().pages().getThumbnail(\n",
    "    presentationId=presentation_id,\n",
    "    pageObjectId='gc6f9fe735_0_0',\n",
    "    #thumbnailProperties={mimeType:'image/jpeg'}\n",
    ").execute()"
   ]
  },
  {
   "cell_type": "code",
   "execution_count": null,
   "metadata": {},
   "outputs": [],
   "source": [
    "\n",
    "slides_service=gapi.slides_service\n",
    "self=t\n",
    "    \n",
    "def getReplacement(placeholder,value,matchCase=True):\n",
    "    if '_img_url' in placeholder:\n",
    "        return {\n",
    "                \"replaceAllShapesWithImage\"  : {\n",
    "                    \"containsText\": {\n",
    "                        \"text\": \"{\"+placeholder+\"}\",\n",
    "                        \"matchCase\": matchCase,\n",
    "                    },\n",
    "                    \"imageUrl\": value,\n",
    "                    \"replaceMethod\": \"CENTER_INSIDE\",\n",
    "                }}   \n",
    "    else:\n",
    "        return { \"replaceAllText\"   : {\n",
    "                \"containsText\": {\n",
    "                    \"text\": \"{\"+placeholder+\"}\",\n",
    "                    \"matchCase\": matchCase,\n",
    "                },\n",
    "                \"replaceText\": value,\n",
    "            }\n",
    "        }\n",
    "def getPlaceHolder(slide):\n",
    "        ret=[]\n",
    "        for el in slide.get(\"pageElements\"):\n",
    "            if ('shape' in el):\n",
    "                shp=el['shape']\n",
    "                # print(el['objectId'],shp['shapeType'],shp)\n",
    "                for t in shp['text']['textElements']:\n",
    "                    if 'textRun' in t:\n",
    "                        placeholders=self.substitutePat.findall(t['textRun']['content'])\n",
    "                        ret+=placeholders\n",
    "        return ret\n",
    "           \n",
    "def template_render():\n",
    "    name='profiling test..delete'\n",
    "    values={\"date\":'2024-02-01','name':'Avinash Mane','milestone':'100 days','logo_img_url':'https://upload.wikimedia.org/wikipedia/commons/f/f5/Circle_file.487.png'}\n",
    "\n",
    "    newCopyId=self.copyDocument(self.id, f'{self.name} copy {str(date.today())}')\n",
    "\n",
    "    print(f'copying {self.id} to {newCopyId}')\n",
    "    newDoc=Document(newCopyId)\n",
    "    newDoc.givePermission(\"writer\",\"avinashmane@gmail.com\")\n",
    "    print(newDoc)\n",
    "\n",
    "    slides=self.getSlides(newCopyId)\n",
    "\n",
    "         \n",
    "         \n",
    "    ps =getPlaceHolder( slides[0])\n",
    "\n",
    "    body = {\"requests\": []}\n",
    "    body[\"requests\"]=[getReplacement(param,values[param]) \n",
    "                        for param in ps if param in values]\n",
    "    response = (\n",
    "        gapi.slides_service.presentations()\n",
    "        .batchUpdate(presentationId=newCopyId, body=body)\n",
    "        .execute()\n",
    "    )\n",
    "    \n",
    "    #print(ps,values,self.checkBatchUpdate(response)) \n",
    "\n",
    "# %lprun -f template_render template_render()\n"
   ]
  },
  {
   "cell_type": "code",
   "execution_count": null,
   "metadata": {
    "vscode": {
     "languageId": "javascript"
    }
   },
   "outputs": [],
   "source": [
    "print(t)\n",
    "import api_template\n",
    "import importlib\n",
    "importlib.reload(api_template)\n",
    "slides_service=api_template.gapi.slides_service"
   ]
  },
  {
   "cell_type": "code",
   "execution_count": null,
   "metadata": {
    "vscode": {
     "languageId": "javascript"
    }
   },
   "outputs": [],
   "source": [
    "t2=Templ(templates['run_dist']).dri\n",
    "\n",
    "\n"
   ]
  },
  {
   "cell_type": "code",
   "execution_count": null,
   "metadata": {
    "vscode": {
     "languageId": "javascript"
    }
   },
   "outputs": [],
   "source": []
  },
  {
   "cell_type": "code",
   "execution_count": null,
   "metadata": {
    "vscode": {
     "languageId": "javascript"
    }
   },
   "outputs": [],
   "source": []
  },
  {
   "cell_type": "code",
   "execution_count": null,
   "metadata": {
    "vscode": {
     "languageId": "javascript"
    }
   },
   "outputs": [],
   "source": []
  },
  {
   "cell_type": "code",
   "execution_count": null,
   "metadata": {
    "vscode": {
     "languageId": "javascript"
    }
   },
   "outputs": [],
   "source": [
    "slides=t2.getSlides(templates['run_dist'])"
   ]
  },
  {
   "cell_type": "code",
   "execution_count": null,
   "metadata": {
    "vscode": {
     "languageId": "javascript"
    }
   },
   "outputs": [],
   "source": [
    "\n",
    "for el in slides[0].get(\"pageElements\"):\n",
    "                if  ('shape' in el):\n",
    "                    shp=el['shape']\n",
    "                    print(el['objectId'],shp['shapeType'],shp)\n",
    "                    for t in shp['text']['textElements']:\n",
    "                        if 'textRun' in t:\n",
    "                            placeholders=subPat.findall(t['textRun']['content'])\n",
    "                            print(t['textRun']['content'],placeholders)\n",
    "                else:\n",
    "                    print (el)"
   ]
  },
  {
   "cell_type": "code",
   "execution_count": null,
   "metadata": {
    "vscode": {
     "languageId": "javascript"
    }
   },
   "outputs": [],
   "source": [
    "pd.DataFrame(slides[0].get('pageElements'))['shape'].apply(pd.Series).style\n",
    "\n"
   ]
  },
  {
   "cell_type": "code",
   "execution_count": null,
   "metadata": {
    "vscode": {
     "languageId": "javascript"
    }
   },
   "outputs": [],
   "source": [
    "1sFGM9ajoHcAs2bzahIc7mCrF0w4BDGNqPufquk7YQy8"
   ]
  },
  {
   "cell_type": "code",
   "execution_count": null,
   "metadata": {
    "vscode": {
     "languageId": "javascript"
    }
   },
   "outputs": [],
   "source": [
    "if False:\n",
    "    for _doc in Document.getList()[:0]:\n",
    "        d=Document(_doc['id'])\n",
    "        d.givePermission(\"writer\",\"avinashmane@gmail.com\")\n",
    "        print(d)\n"
   ]
  },
  {
   "cell_type": "code",
   "execution_count": null,
   "metadata": {
    "vscode": {
     "languageId": "javascript"
    }
   },
   "outputs": [],
   "source": [
    "c_docs = Template()\n",
    "doc_id = c_docs.pick_a_template('1ZnI2I_s86Zs833LCFCmvBMCH74ZKrXdvc-3qNII1ORQ')\n"
   ]
  },
  {
   "cell_type": "code",
   "execution_count": null,
   "metadata": {
    "vscode": {
     "languageId": "javascript"
    }
   },
   "outputs": [],
   "source": []
  },
  {
   "cell_type": "code",
   "execution_count": null,
   "metadata": {
    "vscode": {
     "languageId": "javascript"
    }
   },
   "outputs": [],
   "source": [
    "giveAnyoneView(doc_id)\n",
    " #givePermission(doc_id,\"writer\",\"avinashmane@gmail.com\")"
   ]
  },
  {
   "cell_type": "code",
   "execution_count": null,
   "metadata": {
    "vscode": {
     "languageId": "javascript"
    }
   },
   "outputs": [],
   "source": [
    "print(\"https://docs.google.com/document/d/{0}/edit\".format(\"1sprmhPuvPpEKpnJE55__XhKwzyaxn6ayS1cLx1-WU78\"))\n",
    "print())"
   ]
  },
  {
   "cell_type": "code",
   "execution_count": null,
   "metadata": {
    "vscode": {
     "languageId": "javascript"
    }
   },
   "outputs": [],
   "source": [
    "\n",
    "requests = []\n",
    "requests.append(c_docs.replace_a_data('title', 'Coronavirus Disease 2019'))\n"
   ]
  },
  {
   "cell_type": "code",
   "execution_count": null,
   "metadata": {
    "vscode": {
     "languageId": "javascript"
    }
   },
   "outputs": [],
   "source": [
    "\n",
    "today = date.today()\n",
    "requests.append(c_docs.replace_a_data('date', '{0}'.format(today)))\n",
    "c_docs.hwd_batch_update(doc_id, requests)\n"
   ]
  },
  {
   "cell_type": "code",
   "execution_count": null,
   "metadata": {
    "vscode": {
     "languageId": "javascript"
    }
   },
   "outputs": [],
   "source": [
    "\n",
    "starti, endi = c_docs.get_text_range_idx(doc_id, 'Details :')\n",
    "rlt, endi = c_docs.print_main_sections(doc_id, endi)"
   ]
  },
  {
   "cell_type": "code",
   "execution_count": null,
   "metadata": {
    "vscode": {
     "languageId": "javascript"
    }
   },
   "outputs": [],
   "source": [
    "\" Not working\"\n",
    "\"Transfer file\"\n",
    "\n",
    "gapi.drive_service.permissions().create(\n",
    "   fileId=\"19JqsyCwbM4AyOpf_L6vsGx3nLbzf3IYXZA650vgdGVk\",\n",
    "   body={'emailAddress': 'avinashmane@gmail.com',\n",
    "   'type': 'user',\n",
    "   'kind': 'drive#permission',\n",
    "   'role': 'owner'},\n",
    "   transferOwnership =True,\n",
    "   moveToNewOwnersRoot=True).execute()"
   ]
  }
 ],
 "metadata": {
  "kernelspec": {
   "display_name": "Python 3 (ipykernel)",
   "language": "python",
   "name": "python3"
  },
  "language_info": {
   "codemirror_mode": {
    "name": "ipython",
    "version": 3
   },
   "file_extension": ".py",
   "mimetype": "text/x-python",
   "name": "python",
   "nbconvert_exporter": "python",
   "pygments_lexer": "ipython3",
   "version": "3.11.7"
  }
 },
 "nbformat": 4,
 "nbformat_minor": 4
}
